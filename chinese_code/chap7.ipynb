{
 "cells": [
  {
   "cell_type": "markdown",
   "metadata": {},
   "source": [
    "# 第7章 常用的Keras功能"
   ]
  },
  {
   "cell_type": "markdown",
   "metadata": {},
   "source": [
    "**列表7.1  Dropout層的使用範例**"
   ]
  },
  {
   "cell_type": "code",
   "execution_count": 1,
   "metadata": {
    "ExecuteTime": {
     "end_time": "2018-03-29T03:59:23.360049Z",
     "start_time": "2018-03-29T03:59:20.395991Z"
    }
   },
   "outputs": [
    {
     "name": "stderr",
     "output_type": "stream",
     "text": [
      "/usr/local/lib/python3.5/dist-packages/h5py/__init__.py:36: FutureWarning: Conversion of the second argument of issubdtype from `float` to `np.floating` is deprecated. In future, it will be treated as `np.float64 == np.dtype(float).type`.\n",
      "  from ._conv import register_converters as _register_converters\n"
     ]
    },
    {
     "name": "stdout",
     "output_type": "stream",
     "text": [
      "WARNING:tensorflow:From /usr/local/lib/python3.5/dist-packages/tensorflow/python/keras/_impl/keras/backend.py:3086: calling reduce_sum (from tensorflow.python.ops.math_ops) with keep_dims is deprecated and will be removed in a future version.\n",
      "Instructions for updating:\n",
      "keep_dims is deprecated, use keepdims instead\n",
      "WARNING:tensorflow:From /usr/local/lib/python3.5/dist-packages/tensorflow/python/keras/_impl/keras/backend.py:1557: calling reduce_mean (from tensorflow.python.ops.math_ops) with keep_dims is deprecated and will be removed in a future version.\n",
      "Instructions for updating:\n",
      "keep_dims is deprecated, use keepdims instead\n"
     ]
    }
   ],
   "source": [
    "# 內含Dropout層的Sequential模型範例\n",
    "from tensorflow.python.keras.models import Sequential\n",
    "from tensorflow.python.keras.layers import Dense, Dropout\n",
    "\n",
    "\n",
    "model = Sequential()\n",
    "model.add(Dense(64, activation='relu', input_dim=20))\n",
    "model.add(Dropout(0.5))  # 將Dropout的rate設定為0.5\n",
    "model.add(Dense(64, activation='relu'))\n",
    "model.add(Dropout(0.5))\n",
    "model.add(Dense(10, activation='softmax'))\n",
    "\n",
    "model.compile(\n",
    "    loss='categorical_crossentropy',\n",
    "    optimizer='SGD',\n",
    "    metrics=['accuracy']\n",
    ")"
   ]
  },
  {
   "cell_type": "markdown",
   "metadata": {},
   "source": [
    "**列表7.2  BatchNormalization層的使用範例**"
   ]
  },
  {
   "cell_type": "code",
   "execution_count": 2,
   "metadata": {
    "ExecuteTime": {
     "end_time": "2018-03-29T03:59:23.774829Z",
     "start_time": "2018-03-29T03:59:23.363224Z"
    }
   },
   "outputs": [],
   "source": [
    "# 內含BatchNormalization層的Sequential模型範例\n",
    "from tensorflow.python.keras.models import Sequential\n",
    "from tensorflow.python.keras.layers import Dense, Activation, BatchNormalization\n",
    "\n",
    "\n",
    "model = Sequential()\n",
    "model.add(Dense(64, input_dim=20))\n",
    "model.add(BatchNormalization())\n",
    "model.add(Activation('relu'))\n",
    "model.add(Dense(64))\n",
    "model.add(BatchNormalization())\n",
    "model.add(Activation('relu'))\n",
    "model.add(Dense(10, activation='softmax'))\n",
    "\n",
    "model.compile(\n",
    "    loss='categorical_crossentropy',\n",
    "    optimizer='SGD',\n",
    "    metrics=['accuracy']\n",
    ")"
   ]
  },
  {
   "cell_type": "markdown",
   "metadata": {
    "ExecuteTime": {
     "end_time": "2018-03-12T08:02:37.939118Z",
     "start_time": "2018-03-12T08:02:37.933014Z"
    }
   },
   "source": [
    "**列表7.3  Lambda層的使用範例**"
   ]
  },
  {
   "cell_type": "code",
   "execution_count": 3,
   "metadata": {
    "ExecuteTime": {
     "end_time": "2018-03-29T03:59:23.951303Z",
     "start_time": "2018-03-29T03:59:23.777227Z"
    }
   },
   "outputs": [],
   "source": [
    "# 使用Lambda層的範例\n",
    "from tensorflow.python.keras.layers import Input, Lambda\n",
    "from tensorflow.python.keras.models import Model\n",
    "\n",
    "\n",
    "model_in = Input(shape=(20,))\n",
    "x = Lambda(lambda x: x/255.)(model_in)\n",
    "x = Dense(64, activation='relu')(x)\n",
    "model_out = Dense(10, activation='softmax')(x)\n",
    "\n",
    "model = Model(inputs=model_in, outputs=model_out)\n",
    "model.compile(\n",
    "    loss='categorical_crossentropy',\n",
    "    optimizer='SGD',\n",
    "    metrics=['accuracy']\n",
    ")"
   ]
  },
  {
   "cell_type": "markdown",
   "metadata": {
    "ExecuteTime": {
     "end_time": "2018-03-12T08:51:32.825647Z",
     "start_time": "2018-03-12T08:51:32.819683Z"
    }
   },
   "source": [
    "**列表7.4  利用層的參數新增活化函數的範例**"
   ]
  },
  {
   "cell_type": "code",
   "execution_count": 4,
   "metadata": {
    "ExecuteTime": {
     "end_time": "2018-03-29T03:59:24.211386Z",
     "start_time": "2018-03-29T03:59:23.953983Z"
    }
   },
   "outputs": [],
   "source": [
    "# 將relu或sigmoid指定為Dense層的參數，新增活化函數\n",
    "model = Sequential()\n",
    "model.add(Dense(64, activation='relu', input_dim=20))\n",
    "model.add(Dense(1, activation='sigmoid'))\n",
    "model.compile(\n",
    "    loss='binary_crossentropy',\n",
    "    optimizer='SGD',\n",
    "    metrics=['accuracy']\n",
    ")"
   ]
  },
  {
   "cell_type": "code",
   "execution_count": 5,
   "metadata": {
    "ExecuteTime": {
     "end_time": "2018-03-29T03:59:24.230601Z",
     "start_time": "2018-03-29T03:59:24.219276Z"
    }
   },
   "outputs": [
    {
     "name": "stdout",
     "output_type": "stream",
     "text": [
      "_________________________________________________________________\n",
      "Layer (type)                 Output Shape              Param #   \n",
      "=================================================================\n",
      "dense_9 (Dense)              (None, 64)                1344      \n",
      "_________________________________________________________________\n",
      "dense_10 (Dense)             (None, 1)                 65        \n",
      "=================================================================\n",
      "Total params: 1,409\n",
      "Trainable params: 1,409\n",
      "Non-trainable params: 0\n",
      "_________________________________________________________________\n"
     ]
    }
   ],
   "source": [
    "model.summary()"
   ]
  },
  {
   "cell_type": "markdown",
   "metadata": {},
   "source": [
    "**列表7.5  呼叫Activation層，建置與新增活化函數的範例**"
   ]
  },
  {
   "cell_type": "code",
   "execution_count": 6,
   "metadata": {
    "ExecuteTime": {
     "end_time": "2018-03-29T03:59:24.470545Z",
     "start_time": "2018-03-29T03:59:24.235064Z"
    }
   },
   "outputs": [],
   "source": [
    "# 呼叫Activation層，新增活化層\n",
    "from tensorflow.python.keras.layers import Activation\n",
    "from tensorflow.python.keras.activations import relu\n",
    "\n",
    "\n",
    "model = Sequential()\n",
    "model.add(Dense(64, input_dim=20))\n",
    "model.add(Activation('relu'))\n",
    "model.add(Dense(1))\n",
    "model.add(Activation('sigmoid'))\n",
    "\n",
    "model.compile(\n",
    "    loss='binary_crossentropy',\n",
    "    optimizer='SGD',\n",
    "    metrics=['accuracy']\n",
    ")"
   ]
  },
  {
   "cell_type": "code",
   "execution_count": 7,
   "metadata": {
    "ExecuteTime": {
     "end_time": "2018-03-29T03:59:24.489912Z",
     "start_time": "2018-03-29T03:59:24.478354Z"
    }
   },
   "outputs": [
    {
     "name": "stdout",
     "output_type": "stream",
     "text": [
      "_________________________________________________________________\n",
      "Layer (type)                 Output Shape              Param #   \n",
      "=================================================================\n",
      "dense_11 (Dense)             (None, 64)                1344      \n",
      "_________________________________________________________________\n",
      "activation_3 (Activation)    (None, 64)                0         \n",
      "_________________________________________________________________\n",
      "dense_12 (Dense)             (None, 1)                 65        \n",
      "_________________________________________________________________\n",
      "activation_4 (Activation)    (None, 1)                 0         \n",
      "=================================================================\n",
      "Total params: 1,409\n",
      "Trainable params: 1,409\n",
      "Non-trainable params: 0\n",
      "_________________________________________________________________\n"
     ]
    }
   ],
   "source": [
    "model.summary()"
   ]
  },
  {
   "cell_type": "markdown",
   "metadata": {},
   "source": [
    "**列表7.6  Clipped ReLU的範例**"
   ]
  },
  {
   "cell_type": "code",
   "execution_count": 8,
   "metadata": {
    "ExecuteTime": {
     "end_time": "2018-03-29T03:59:24.703439Z",
     "start_time": "2018-03-29T03:59:24.494083Z"
    }
   },
   "outputs": [],
   "source": [
    "# Clipped ReLU的範例\n",
    "from tensorflow.python.keras.layers import Activation\n",
    "from tensorflow.python.keras.activations import relu\n",
    "\n",
    "\n",
    "model = Sequential()\n",
    "model.add(\n",
    "    Dense(\n",
    "        64, \n",
    "        input_dim=20, \n",
    "        activation=lambda x: relu(x, max_value=2)\n",
    "    )\n",
    ")\n",
    "model.add(Dense(1, activation='sigmoid'))\n",
    "\n",
    "model.compile(\n",
    "    loss='binary_crossentropy',\n",
    "    optimizer='SGD',\n",
    "    metrics=['accuracy']\n",
    ")"
   ]
  },
  {
   "cell_type": "markdown",
   "metadata": {},
   "source": [
    "**列表7.7  建置產生器**"
   ]
  },
  {
   "cell_type": "code",
   "execution_count": 9,
   "metadata": {
    "ExecuteTime": {
     "end_time": "2018-03-29T03:59:24.716694Z",
     "start_time": "2018-03-29T03:59:24.707474Z"
    }
   },
   "outputs": [],
   "source": [
    "from tensorflow.python.keras.preprocessing.image import ImageDataGenerator\n",
    "\n",
    "\n",
    "# 建置ImageDataGenerator\n",
    "# 指定具代表性的選項的範例\n",
    "gen = ImageDataGenerator(\n",
    "    rescale=1/255.,  # 尺度轉換 \n",
    "    rotation_range=90.,  # 資料擴充相關選項 \n",
    "    width_shift_range=1.,\n",
    "    height_shift_range=.5,\n",
    "    shear_range=.8,\n",
    "    zoom_range=.5,\n",
    "    horizontal_flip=True,\n",
    "    vertical_flip=True\n",
    ")"
   ]
  },
  {
   "cell_type": "markdown",
   "metadata": {},
   "source": [
    "**列表7.8  產生迭代器與取得資料**"
   ]
  },
  {
   "cell_type": "code",
   "execution_count": 10,
   "metadata": {
    "ExecuteTime": {
     "end_time": "2018-03-29T03:59:24.974562Z",
     "start_time": "2018-03-29T03:59:24.719421Z"
    }
   },
   "outputs": [
    {
     "name": "stdout",
     "output_type": "stream",
     "text": [
      "Found 25 images belonging to 2 classes.\n",
      "shape of x_train_batch: (5, 32, 32, 3)\n",
      "shape of y_train_batch: (5,)\n"
     ]
    }
   ],
   "source": [
    "# 從資料夾載入影像與建置迭代器\n",
    "iters = gen.flow_from_directory(\n",
    "    'img',\n",
    "    target_size=(32, 32),\n",
    "    class_mode='binary',\n",
    "    batch_size=5,\n",
    "    shuffle=True\n",
    ")\n",
    "\n",
    "# 從迭代器取得1筆小批次的資料\n",
    "x_train_batch, y_train_batch = next(iters)\n",
    "\n",
    "print('shape of x_train_batch:', x_train_batch.shape)\n",
    "print('shape of y_train_batch:', y_train_batch.shape)"
   ]
  },
  {
   "cell_type": "markdown",
   "metadata": {},
   "source": [
    "**列表7.9  利用迭代器學習模型**"
   ]
  },
  {
   "cell_type": "code",
   "execution_count": 11,
   "metadata": {
    "ExecuteTime": {
     "end_time": "2018-03-29T03:59:48.861189Z",
     "start_time": "2018-03-29T03:59:46.765600Z"
    }
   },
   "outputs": [
    {
     "name": "stdout",
     "output_type": "stream",
     "text": [
      "Epoch 1/1\n",
      "5/5 [==============================]5/5 [==============================] - 2s 338ms/step - loss: 2.1543\n",
      "\n"
     ]
    }
   ],
   "source": [
    "import math\n",
    "from tensorflow.python.keras.models import Sequential\n",
    "from tensorflow.python.keras.layers import Flatten, Dense, Conv2D\n",
    "\n",
    "\n",
    "# 建置分類專用的模型\n",
    "model = Sequential()\n",
    "model.add(Conv2D(16, (3, 3), input_shape=(32, 32, 3)))\n",
    "model.add(Flatten())\n",
    "model.add(Dense(32, activation='relu'))\n",
    "model.add(Dense(1, activation='sigmoid'))\n",
    "\n",
    "model.compile(\n",
    "    loss='binary_crossentropy',\n",
    "    optimizer='rmsprop'\n",
    ")\n",
    "\n",
    "\n",
    "# 計算學習幾筆小批次的資料，才算1個時期\n",
    "steps_per_epoch = math.ceil(iters.samples/5)\n",
    "\n",
    "# 將迭代器傳遞給`fit_generator`方法\n",
    "histroy = model.fit_generator(\n",
    "    iters, \n",
    "    steps_per_epoch=steps_per_epoch\n",
    ")"
   ]
  },
  {
   "cell_type": "code",
   "execution_count": null,
   "metadata": {},
   "outputs": [],
   "source": []
  }
 ],
 "metadata": {
  "kernelspec": {
   "display_name": "Python 3",
   "language": "python",
   "name": "python3"
  },
  "language_info": {
   "codemirror_mode": {
    "name": "ipython",
    "version": 3
   },
   "file_extension": ".py",
   "mimetype": "text/x-python",
   "name": "python",
   "nbconvert_exporter": "python",
   "pygments_lexer": "ipython3",
   "version": "3.7.0"
  },
  "toc": {
   "colors": {
    "hover_highlight": "#DAA520",
    "navigate_num": "#000000",
    "navigate_text": "#333333",
    "running_highlight": "#FF0000",
    "selected_highlight": "#FFD700",
    "sidebar_border": "#EEEEEE",
    "wrapper_background": "#FFFFFF"
   },
   "moveMenuLeft": true,
   "nav_menu": {
    "height": "30px",
    "width": "252px"
   },
   "navigate_menu": true,
   "number_sections": true,
   "sideBar": true,
   "threshold": 4,
   "toc_cell": false,
   "toc_section_display": "block",
   "toc_window_display": false,
   "widenNotebook": false
  }
 },
 "nbformat": 4,
 "nbformat_minor": 2
}

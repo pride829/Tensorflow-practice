{
 "cells": [
  {
   "cell_type": "markdown",
   "metadata": {},
   "source": [
    "# 第4章　神經網路與Keras"
   ]
  },
  {
   "cell_type": "markdown",
   "metadata": {},
   "source": [
    "** 列表4.1  載入資料 **"
   ]
  },
  {
   "cell_type": "code",
   "execution_count": 1,
   "metadata": {},
   "outputs": [
    {
     "name": "stderr",
     "output_type": "stream",
     "text": [
      "C:\\Users\\miyakoshi\\Anaconda3\\envs\\KS\\lib\\site-packages\\h5py\\__init__.py:36: FutureWarning: Conversion of the second argument of issubdtype from `float` to `np.floating` is deprecated. In future, it will be treated as `np.float64 == np.dtype(float).type`.\n",
      "  from ._conv import register_converters as _register_converters\n"
     ]
    }
   ],
   "source": [
    "from tensorflow.python.keras.datasets import mnist\n",
    "\n",
    "\n",
    "(x_train, y_train), (x_test, y_test) = mnist.load_data()"
   ]
  },
  {
   "cell_type": "markdown",
   "metadata": {},
   "source": [
    "** 列表4.2  載入的資料的格式 **"
   ]
  },
  {
   "cell_type": "code",
   "execution_count": 2,
   "metadata": {},
   "outputs": [
    {
     "name": "stdout",
     "output_type": "stream",
     "text": [
      "x_train.shape: (60000, 28, 28)\n",
      "x_test.shape: (10000, 28, 28)\n",
      "y_train.shape: (60000,)\n",
      "y_test.shape: (10000,)\n"
     ]
    }
   ],
   "source": [
    "# 確認載入的資料的格式\n",
    "print('x_train.shape:', x_train.shape)\n",
    "print('x_test.shape:', x_test.shape)\n",
    "print('y_train.shape:', y_train.shape)\n",
    "print('y_test.shape:', y_test.shape)"
   ]
  },
  {
   "cell_type": "markdown",
   "metadata": {},
   "source": [
    "** 列表4.3:轉換資料(特徵值)的格式，以便支援神經網路**"
   ]
  },
  {
   "cell_type": "code",
   "execution_count": 3,
   "metadata": {},
   "outputs": [],
   "source": [
    "x_train = x_train.reshape(60000, 784)\n",
    "x_train = x_train/255.\n",
    "x_test = x_test.reshape(10000, 784)\n",
    "x_test = x_test/255."
   ]
  },
  {
   "cell_type": "markdown",
   "metadata": {},
   "source": [
    "** 列表4.4  讓載入的資料(類別標籤)轉換成支援神經網路的格式 **"
   ]
  },
  {
   "cell_type": "code",
   "execution_count": 4,
   "metadata": {},
   "outputs": [],
   "source": [
    "from tensorflow.python.keras.utils import to_categorical\n",
    "\n",
    "\n",
    "y_train = to_categorical(y_train, 10)\n",
    "y_test = to_categorical(y_test, 10)"
   ]
  },
  {
   "cell_type": "markdown",
   "metadata": {},
   "source": [
    "** 列表4.5  建置模型的事前準備 **"
   ]
  },
  {
   "cell_type": "code",
   "execution_count": 5,
   "metadata": {},
   "outputs": [],
   "source": [
    "from tensorflow.python.keras.models import Sequential\n",
    "\n",
    "\n",
    "model = Sequential()"
   ]
  },
  {
   "cell_type": "markdown",
   "metadata": {},
   "source": [
    "** 列表4.6  新增隱藏層 **"
   ]
  },
  {
   "cell_type": "code",
   "execution_count": 6,
   "metadata": {},
   "outputs": [],
   "source": [
    "from tensorflow.python.keras.layers import Dense\n",
    "\n",
    "\n",
    "model.add(\n",
    "    Dense(\n",
    "        units=64, \n",
    "        input_shape=(784,),\n",
    "        activation='relu'\n",
    "    )\n",
    ")"
   ]
  },
  {
   "cell_type": "markdown",
   "metadata": {},
   "source": [
    "** 列表4.7  新增輸出層 **"
   ]
  },
  {
   "cell_type": "code",
   "execution_count": 7,
   "metadata": {},
   "outputs": [],
   "source": [
    "model.add(\n",
    "    Dense(\n",
    "        units=10, \n",
    "        activation='softmax'\n",
    "    )\n",
    ")"
   ]
  },
  {
   "cell_type": "markdown",
   "metadata": {},
   "source": [
    "** 列表4.8  利用Adam，讓模型學習MNIST資料**"
   ]
  },
  {
   "cell_type": "code",
   "execution_count": 8,
   "metadata": {},
   "outputs": [
    {
     "name": "stdout",
     "output_type": "stream",
     "text": [
      "WARNING:tensorflow:From C:\\Users\\miyakoshi\\Anaconda3\\envs\\KS\\lib\\site-packages\\tensorflow\\python\\keras\\_impl\\keras\\backend.py:3086: calling reduce_sum (from tensorflow.python.ops.math_ops) with keep_dims is deprecated and will be removed in a future version.\n",
      "Instructions for updating:\n",
      "keep_dims is deprecated, use keepdims instead\n",
      "WARNING:tensorflow:From C:\\Users\\miyakoshi\\Anaconda3\\envs\\KS\\lib\\site-packages\\tensorflow\\python\\keras\\_impl\\keras\\backend.py:1557: calling reduce_mean (from tensorflow.python.ops.math_ops) with keep_dims is deprecated and will be removed in a future version.\n",
      "Instructions for updating:\n",
      "keep_dims is deprecated, use keepdims instead\n",
      "Train on 48000 samples, validate on 12000 samples\n",
      "Epoch 1/20\n",
      "48000/48000 [==============================]48000/48000 [==============================] - 3s 55us/step - loss: 0.3290 - acc: 0.9073 - val_loss: 0.1917 - val_acc: 0.9467\n",
      "\n",
      "Epoch 2/20\n",
      "48000/48000 [==============================]48000/48000 [==============================] - 2s 49us/step - loss: 0.1601 - acc: 0.9531 - val_loss: 0.1378 - val_acc: 0.9603\n",
      "\n",
      "Epoch 3/20\n",
      "48000/48000 [==============================]48000/48000 [==============================] - 2s 51us/step - loss: 0.1154 - acc: 0.9660 - val_loss: 0.1206 - val_acc: 0.9645\n",
      "\n",
      "Epoch 4/20\n",
      "48000/48000 [==============================]48000/48000 [==============================] - 2s 49us/step - loss: 0.0908 - acc: 0.9732 - val_loss: 0.1112 - val_acc: 0.9675\n",
      "\n",
      "Epoch 5/20\n",
      "48000/48000 [==============================]48000/48000 [==============================] - 3s 53us/step - loss: 0.0746 - acc: 0.9785 - val_loss: 0.1045 - val_acc: 0.9702\n",
      "\n",
      "Epoch 6/20\n",
      "48000/48000 [==============================]48000/48000 [==============================] - 2s 49us/step - loss: 0.0603 - acc: 0.9829 - val_loss: 0.1028 - val_acc: 0.9692\n",
      "\n",
      "Epoch 7/20\n",
      "48000/48000 [==============================]48000/48000 [==============================] - 2s 50us/step - loss: 0.0526 - acc: 0.9839 - val_loss: 0.1000 - val_acc: 0.9705\n",
      "\n",
      "Epoch 8/20\n",
      "48000/48000 [==============================]48000/48000 [==============================] - 2s 50us/step - loss: 0.0444 - acc: 0.9868 - val_loss: 0.0942 - val_acc: 0.9718\n",
      "\n",
      "Epoch 9/20\n",
      "48000/48000 [==============================]48000/48000 [==============================] - 2s 49us/step - loss: 0.0368 - acc: 0.9892 - val_loss: 0.1008 - val_acc: 0.9722\n",
      "\n",
      "Epoch 10/20\n",
      "48000/48000 [==============================]48000/48000 [==============================] - 2s 50us/step - loss: 0.0320 - acc: 0.9898 - val_loss: 0.1073 - val_acc: 0.9693\n",
      "\n",
      "Epoch 11/20\n",
      "48000/48000 [==============================]48000/48000 [==============================] - 3s 53us/step - loss: 0.0281 - acc: 0.9914 - val_loss: 0.1018 - val_acc: 0.9715\n",
      "\n",
      "Epoch 12/20\n",
      "48000/48000 [==============================]48000/48000 [==============================] - 2s 51us/step - loss: 0.0246 - acc: 0.9932 - val_loss: 0.1058 - val_acc: 0.9695\n",
      "\n",
      "Epoch 13/20\n",
      "48000/48000 [==============================]48000/48000 [==============================] - 2s 50us/step - loss: 0.0220 - acc: 0.9937 - val_loss: 0.0947 - val_acc: 0.9752\n",
      "\n",
      "Epoch 14/20\n",
      "48000/48000 [==============================]48000/48000 [==============================] - 2s 51us/step - loss: 0.0186 - acc: 0.9944 - val_loss: 0.1044 - val_acc: 0.9729\n",
      "\n",
      "Epoch 15/20\n",
      "48000/48000 [==============================]48000/48000 [==============================] - 2s 51us/step - loss: 0.0165 - acc: 0.9948 - val_loss: 0.1017 - val_acc: 0.9734\n",
      "\n",
      "Epoch 16/20\n",
      "48000/48000 [==============================]48000/48000 [==============================] - 2s 52us/step - loss: 0.0132 - acc: 0.9962 - val_loss: 0.1150 - val_acc: 0.9708\n",
      "\n",
      "Epoch 17/20\n",
      "48000/48000 [==============================]48000/48000 [==============================] - 3s 53us/step - loss: 0.0126 - acc: 0.9966 - val_loss: 0.1019 - val_acc: 0.9745\n",
      "\n",
      "Epoch 18/20\n",
      "48000/48000 [==============================]48000/48000 [==============================] - 3s 57us/step - loss: 0.0123 - acc: 0.9964 - val_loss: 0.1103 - val_acc: 0.9733\n",
      "\n",
      "Epoch 19/20\n",
      "48000/48000 [==============================]48000/48000 [==============================] - 2s 50us/step - loss: 0.0097 - acc: 0.9971 - val_loss: 0.1169 - val_acc: 0.9724\n",
      "\n",
      "Epoch 20/20\n",
      "48000/48000 [==============================]48000/48000 [==============================] - 3s 53us/step - loss: 0.0098 - acc: 0.9972 - val_loss: 0.1125 - val_acc: 0.9734\n",
      "\n"
     ]
    }
   ],
   "source": [
    "from tensorflow.python.keras.callbacks import TensorBoard\n",
    "\n",
    "\n",
    "model.compile(\n",
    "    optimizer='adam',\n",
    "    loss='categorical_crossentropy',\n",
    "    metrics=['accuracy']\n",
    ")\n",
    "tsb = TensorBoard(log_dir='./logs')\n",
    "history_adam = model.fit(\n",
    "    x_train,\n",
    "    y_train,\n",
    "    batch_size=32,\n",
    "    epochs=20,\n",
    "    validation_split=0.2,\n",
    "    callbacks=[tsb]\n",
    ")"
   ]
  },
  {
   "cell_type": "markdown",
   "metadata": {},
   "source": [
    "** 列表4.9  利用Functional API建置模型的事前準備**"
   ]
  },
  {
   "cell_type": "code",
   "execution_count": 9,
   "metadata": {},
   "outputs": [],
   "source": [
    "from tensorflow.python.keras.datasets import mnist\n",
    "from tensorflow.python.keras.utils import to_categorical\n",
    "from tensorflow.python.keras.callbacks import TensorBoard\n",
    "from tensorflow.python.keras.layers import Input, Dense\n",
    "from tensorflow.python.keras.models import Model\n",
    "\n",
    "\n",
    "(x_train, y_train), (x_test, y_test) = mnist.load_data()\n",
    "x_train = x_train.reshape(60000, 784)\n",
    "x_train = x_train/255.\n",
    "x_test = x_test.reshape(10000, 784)\n",
    "x_test = x_test/255.\n",
    "y_train = to_categorical(y_train, 10)\n",
    "y_test = to_categorical(y_test, 10)\n",
    "tsb = TensorBoard(log_dir='./logs')"
   ]
  },
  {
   "cell_type": "markdown",
   "metadata": {},
   "source": [
    "** 列表4.10  利用Functional API建置模型 **"
   ]
  },
  {
   "cell_type": "code",
   "execution_count": 10,
   "metadata": {},
   "outputs": [],
   "source": [
    "input = Input(shape=(784, ))\n",
    "middle = Dense(units=64, activation='relu')(input)\n",
    "output = Dense(units=10, activation='softmax')(middle)\n",
    "model = Model(inputs=[input], outputs=[output])"
   ]
  },
  {
   "cell_type": "markdown",
   "metadata": {},
   "source": [
    "** 列表4.11  模型的編譯範例 **"
   ]
  },
  {
   "cell_type": "code",
   "execution_count": 11,
   "metadata": {},
   "outputs": [],
   "source": [
    "model.compile(\n",
    "    optimizer='adam',\n",
    "    loss='categorical_crossentropy',\n",
    "    metrics=['accuracy']\n",
    ")"
   ]
  },
  {
   "cell_type": "markdown",
   "metadata": {},
   "source": [
    "** 列表4.12  學習MNIST資料集 **"
   ]
  },
  {
   "cell_type": "code",
   "execution_count": null,
   "metadata": {},
   "outputs": [
    {
     "name": "stdout",
     "output_type": "stream",
     "text": [
      "Train on 48000 samples, validate on 12000 samples\n",
      "Epoch 1/20\n",
      "48000/48000 [==============================]48000/48000 [==============================] - 2s 52us/step - loss: 0.3453 - acc: 0.9036 - val_loss: 0.1927 - val_acc: 0.9449\n",
      "\n",
      "Epoch 2/20\n",
      "48000/48000 [==============================]48000/48000 [==============================] - 2s 51us/step - loss: 0.1698 - acc: 0.9504 - val_loss: 0.1521 - val_acc: 0.9573\n",
      "\n",
      "Epoch 3/20\n",
      "48000/48000 [==============================]48000/48000 [==============================] - 2s 49us/step - loss: 0.1220 - acc: 0.9636 - val_loss: 0.1250 - val_acc: 0.9627\n",
      "\n",
      "Epoch 4/20\n",
      "48000/48000 [==============================]48000/48000 [==============================] - 2s 51us/step - loss: 0.0949 - acc: 0.9715 - val_loss: 0.1082 - val_acc: 0.9672\n",
      "\n",
      "Epoch 5/20\n",
      "48000/48000 [==============================]48000/48000 [==============================] - 2s 52us/step - loss: 0.0763 - acc: 0.9773 - val_loss: 0.1072 - val_acc: 0.9661\n",
      "\n",
      "Epoch 6/20\n",
      "48000/48000 [==============================]48000/48000 [==============================] - 2s 49us/step - loss: 0.0637 - acc: 0.9807 - val_loss: 0.1137 - val_acc: 0.9671\n",
      "\n",
      "Epoch 7/20\n",
      "48000/48000 [==============================]48000/48000 [==============================] - 2s 50us/step - loss: 0.0526 - acc: 0.9841 - val_loss: 0.0999 - val_acc: 0.9697\n",
      "\n",
      "Epoch 8/20\n",
      "48000/48000 [==============================]48000/48000 [==============================] - 3s 54us/step - loss: 0.0441 - acc: 0.9870 - val_loss: 0.1011 - val_acc: 0.9702\n",
      "\n",
      "Epoch 9/20\n",
      "48000/48000 [==============================]48000/48000 [==============================] - 3s 54us/step - loss: 0.0379 - acc: 0.9890 - val_loss: 0.0971 - val_acc: 0.9721\n",
      "\n",
      "Epoch 10/20\n",
      "48000/48000 [==============================]48000/48000 [==============================] - 3s 53us/step - loss: 0.0324 - acc: 0.9905 - val_loss: 0.0957 - val_acc: 0.9722\n",
      "\n",
      "Epoch 11/20\n",
      "48000/48000 [==============================]48000/48000 [==============================] - 2s 50us/step - loss: 0.0270 - acc: 0.9919 - val_loss: 0.1067 - val_acc: 0.9697\n",
      "\n",
      "Epoch 12/20\n",
      "48000/48000 [==============================]48000/48000 [==============================] - 2s 48us/step - loss: 0.0236 - acc: 0.9930 - val_loss: 0.1043 - val_acc: 0.9705\n",
      "\n",
      "Epoch 13/20\n",
      "48000/48000 [==============================]48000/48000 [==============================] - 2s 48us/step - loss: 0.0209 - acc: 0.9940 - val_loss: 0.1073 - val_acc: 0.9719\n",
      "\n",
      "Epoch 14/20\n",
      "48000/48000 [==============================]48000/48000 [==============================] - 2s 48us/step - loss: 0.0177 - acc: 0.9950 - val_loss: 0.1050 - val_acc: 0.9714\n",
      "\n",
      "Epoch 15/20\n",
      "48000/48000 [==============================]48000/48000 [==============================] - 2s 49us/step - loss: 0.0156 - acc: 0.9957 - val_loss: 0.1116 - val_acc: 0.9718\n",
      "\n",
      "Epoch 16/20\n",
      "48000/48000 [==============================]48000/48000 [==============================] - 2s 48us/step - loss: 0.0136 - acc: 0.9962 - val_loss: 0.1177 - val_acc: 0.9708\n",
      "\n",
      "Epoch 17/20\n",
      "48000/48000 [==============================]48000/48000 [==============================] - 2s 51us/step - loss: 0.0114 - acc: 0.9969 - val_loss: 0.1196 - val_acc: 0.9708\n",
      "\n",
      "Epoch 18/20\n",
      "48000/48000 [==============================]48000/48000 [==============================] - 2s 49us/step - loss: 0.0105 - acc: 0.9974 - val_loss: 0.1216 - val_acc: 0.9717\n",
      "\n",
      "Epoch 19/20\n",
      "48000/48000 [==============================]48000/48000 [==============================] - 2s 49us/step - loss: 0.0097 - acc: 0.9974 - val_loss: 0.1165 - val_acc: 0.9728\n",
      "\n",
      "Epoch 20/20\n",
      "22624/48000 [=============>................]22624/48000 [=============>................] - ETA: 1s - loss: 0.0054 - acc: 0.9988"
     ]
    }
   ],
   "source": [
    "model.fit(\n",
    "    x_train,\n",
    "    y_train,\n",
    "    batch_size=32,\n",
    "    epochs=20,\n",
    "    callbacks=[tsb],\n",
    "    validation_split=0.2\n",
    ")"
   ]
  }
 ],
 "metadata": {
  "kernelspec": {
   "display_name": "Python 3",
   "language": "python",
   "name": "python3"
  },
  "language_info": {
   "codemirror_mode": {
    "name": "ipython",
    "version": 3
   },
   "file_extension": ".py",
   "mimetype": "text/x-python",
   "name": "python",
   "nbconvert_exporter": "python",
   "pygments_lexer": "ipython3",
   "version": "3.7.0"
  }
 },
 "nbformat": 4,
 "nbformat_minor": 2
}

{
 "cells": [
  {
   "cell_type": "markdown",
   "metadata": {},
   "source": [
    "# 第5章　利用Keras建置CNN"
   ]
  },
  {
   "cell_type": "markdown",
   "metadata": {},
   "source": [
    "** 列表5.1  載入資料 **"
   ]
  },
  {
   "cell_type": "code",
   "execution_count": 1,
   "metadata": {},
   "outputs": [
    {
     "name": "stderr",
     "output_type": "stream",
     "text": [
      "C:\\Users\\takuma.kurosawa\\AppData\\Local\\conda\\conda\\envs\\retry\\lib\\site-packages\\h5py\\__init__.py:36: FutureWarning: Conversion of the second argument of issubdtype from `float` to `np.floating` is deprecated. In future, it will be treated as `np.float64 == np.dtype(float).type`.\n",
      "  from ._conv import register_converters as _register_converters\n"
     ]
    }
   ],
   "source": [
    "from tensorflow.python.keras.datasets import cifar10\n",
    "\n",
    "\n",
    "(x_train, y_train), (x_test, y_test) = cifar10.load_data()"
   ]
  },
  {
   "cell_type": "markdown",
   "metadata": {},
   "source": [
    "** 列表5.2  確認載入的資料的大小 **"
   ]
  },
  {
   "cell_type": "code",
   "execution_count": 2,
   "metadata": {},
   "outputs": [
    {
     "name": "stdout",
     "output_type": "stream",
     "text": [
      "x_train.shape : (50000, 32, 32, 3)\n",
      "x_test.shape  : (10000, 32, 32, 3)\n",
      "y_train.shape : (50000, 1)\n",
      "y_test.shape  : (10000, 1)\n"
     ]
    }
   ],
   "source": [
    "# 確認資料的大小\n",
    "print('x_train.shape :', x_train.shape)\n",
    "print('x_test.shape  :', x_test.shape)\n",
    "print('y_train.shape :', y_train.shape)\n",
    "print('y_test.shape  :', y_test.shape)"
   ]
  },
  {
   "cell_type": "markdown",
   "metadata": {},
   "source": [
    "** 列表5.3  調整資料的尺度與類別標籤的1-hot向量化 **\n"
   ]
  },
  {
   "cell_type": "code",
   "execution_count": 3,
   "metadata": {},
   "outputs": [],
   "source": [
    "from tensorflow.python.keras.utils import to_categorical\n",
    "\n",
    "\n",
    "# 特徴值的正規化\n",
    "x_train = x_train/255.\n",
    "x_test = x_test/255.\n",
    "\n",
    "# 類別標籤的1-hot向量化\n",
    "y_train = to_categorical(y_train, 10)\n",
    "y_test = to_categorical(y_test, 10)"
   ]
  },
  {
   "cell_type": "markdown",
   "metadata": {},
   "source": [
    "** 列表5.4  建置模型的事前準備 **"
   ]
  },
  {
   "cell_type": "code",
   "execution_count": 4,
   "metadata": {},
   "outputs": [],
   "source": [
    "from tensorflow.python.keras.models import Sequential\n",
    "\n",
    "\n",
    "model = Sequential()"
   ]
  },
  {
   "cell_type": "markdown",
   "metadata": {},
   "source": [
    "** 列表5.5  新增卷積層 **"
   ]
  },
  {
   "cell_type": "code",
   "execution_count": 5,
   "metadata": {},
   "outputs": [],
   "source": [
    "from tensorflow.python.keras.layers import Conv2D\n",
    "\n",
    "\n",
    "model.add(\n",
    "    Conv2D(\n",
    "        filters=32,\n",
    "        input_shape=(32, 32, 3),\n",
    "        kernel_size=(3, 3),\n",
    "        strides=(1, 1),\n",
    "        padding='same',\n",
    "        activation='relu'\n",
    "    )\n",
    ")\n",
    "\n",
    "model.add(\n",
    "    Conv2D(\n",
    "        filters=32,\n",
    "        kernel_size=(3, 3),\n",
    "        strides=(1, 1),\n",
    "        padding='same',\n",
    "        activation='relu'\n",
    "    )\n",
    ")"
   ]
  },
  {
   "cell_type": "markdown",
   "metadata": {},
   "source": [
    "** 列表5.6  新增池化層 **"
   ]
  },
  {
   "cell_type": "code",
   "execution_count": 6,
   "metadata": {},
   "outputs": [],
   "source": [
    "from tensorflow.python.keras.layers import MaxPooling2D\n",
    "\n",
    "\n",
    "model.add(MaxPooling2D(pool_size=(2, 2)))"
   ]
  },
  {
   "cell_type": "markdown",
   "metadata": {},
   "source": [
    "** 列表5.7  新增丟棄層 **"
   ]
  },
  {
   "cell_type": "code",
   "execution_count": 7,
   "metadata": {},
   "outputs": [],
   "source": [
    "from tensorflow.python.keras.layers import Dropout\n",
    "\n",
    "\n",
    "model.add(Dropout(0.25))"
   ]
  },
  {
   "cell_type": "markdown",
   "metadata": {},
   "source": [
    "** 列表5.8  新增卷積層與池化層 **"
   ]
  },
  {
   "cell_type": "code",
   "execution_count": 8,
   "metadata": {},
   "outputs": [],
   "source": [
    "model.add(\n",
    "    Conv2D(\n",
    "        filters=64,\n",
    "        kernel_size=(3, 3),\n",
    "        strides=(1, 1),\n",
    "        padding='same',\n",
    "        activation='relu'\n",
    "    )\n",
    ")\n",
    "model.add(\n",
    "    Conv2D(\n",
    "        filters=64,\n",
    "        kernel_size=(3, 3),\n",
    "        strides=(1, 1),\n",
    "        padding='same',\n",
    "        activation='relu'\n",
    "    )\n",
    ")\n",
    "model.add(MaxPooling2D(pool_size=(2, 2)))\n",
    "model.add(Dropout(0.25))"
   ]
  },
  {
   "cell_type": "markdown",
   "metadata": {},
   "source": [
    "** 列表5.9  新增池化層之後，模型的輸出格式 **"
   ]
  },
  {
   "cell_type": "code",
   "execution_count": 9,
   "metadata": {},
   "outputs": [
    {
     "data": {
      "text/plain": [
       "(None, 8, 8, 64)"
      ]
     },
     "execution_count": 9,
     "metadata": {},
     "output_type": "execute_result"
    }
   ],
   "source": [
    "model.output_shape"
   ]
  },
  {
   "cell_type": "markdown",
   "metadata": {},
   "source": [
    "** 列表5.10  新增Flatten層 **"
   ]
  },
  {
   "cell_type": "code",
   "execution_count": 10,
   "metadata": {},
   "outputs": [
    {
     "data": {
      "text/plain": [
       "(None, 4096)"
      ]
     },
     "execution_count": 10,
     "metadata": {},
     "output_type": "execute_result"
    }
   ],
   "source": [
    "from tensorflow.python.keras.layers import Flatten\n",
    "\n",
    "\n",
    "model.add(Flatten())\n",
    "model.output_shape"
   ]
  },
  {
   "cell_type": "markdown",
   "metadata": {},
   "source": [
    "** 列表5.11  新增全連結層 **"
   ]
  },
  {
   "cell_type": "code",
   "execution_count": 11,
   "metadata": {},
   "outputs": [],
   "source": [
    "from tensorflow.python.keras.layers import Dense\n",
    "\n",
    "\n",
    "model.add(Dense(units=512, activation='relu'))\n",
    "model.add(Dropout(0.5))\n",
    "model.add(Dense(units=10, activation='softmax'))"
   ]
  },
  {
   "cell_type": "markdown",
   "metadata": {},
   "source": [
    "** 列表5.12  將資料套入模型 **"
   ]
  },
  {
   "cell_type": "code",
   "execution_count": 12,
   "metadata": {},
   "outputs": [
    {
     "name": "stdout",
     "output_type": "stream",
     "text": [
      "WARNING:tensorflow:From /usr/local/lib/python3.5/dist-packages/tensorflow/python/keras/_impl/keras/backend.py:3086: calling reduce_sum (from tensorflow.python.ops.math_ops) with keep_dims is deprecated and will be removed in a future version.\n",
      "Instructions for updating:\n",
      "keep_dims is deprecated, use keepdims instead\n",
      "WARNING:tensorflow:From /usr/local/lib/python3.5/dist-packages/tensorflow/python/keras/_impl/keras/backend.py:1557: calling reduce_mean (from tensorflow.python.ops.math_ops) with keep_dims is deprecated and will be removed in a future version.\n",
      "Instructions for updating:\n",
      "keep_dims is deprecated, use keepdims instead\n",
      "Train on 40000 samples, validate on 10000 samples\n",
      "Epoch 1/20\n",
      "40000/40000 [==============================]40000/40000 [==============================] - 22s 544us/step - loss: 1.5435 - acc: 0.4365 - val_loss: 1.1350 - val_acc: 0.5926\n",
      "\n",
      "Epoch 2/20\n",
      "40000/40000 [==============================]40000/40000 [==============================] - 20s 510us/step - loss: 1.1357 - acc: 0.5963 - val_loss: 1.0111 - val_acc: 0.6477\n",
      "\n",
      "Epoch 3/20\n",
      "40000/40000 [==============================]40000/40000 [==============================] - 21s 520us/step - loss: 0.9769 - acc: 0.6533 - val_loss: 0.9050 - val_acc: 0.6783\n",
      "\n",
      "Epoch 4/20\n",
      "40000/40000 [==============================]40000/40000 [==============================] - 20s 510us/step - loss: 0.8735 - acc: 0.6911 - val_loss: 0.8100 - val_acc: 0.7126\n",
      "\n",
      "Epoch 5/20\n",
      "40000/40000 [==============================]40000/40000 [==============================] - 21s 519us/step - loss: 0.7991 - acc: 0.7170 - val_loss: 0.7695 - val_acc: 0.7311\n",
      "\n",
      "Epoch 6/20\n",
      "40000/40000 [==============================]40000/40000 [==============================] - 21s 522us/step - loss: 0.7382 - acc: 0.7399 - val_loss: 0.7519 - val_acc: 0.7350\n",
      "\n",
      "Epoch 7/20\n",
      "40000/40000 [==============================]40000/40000 [==============================] - 21s 527us/step - loss: 0.6864 - acc: 0.7538 - val_loss: 0.7013 - val_acc: 0.7533\n",
      "\n",
      "Epoch 8/20\n",
      "40000/40000 [==============================]40000/40000 [==============================] - 21s 513us/step - loss: 0.6360 - acc: 0.7759 - val_loss: 0.7607 - val_acc: 0.7431\n",
      "\n",
      "Epoch 9/20\n",
      "40000/40000 [==============================]40000/40000 [==============================] - 20s 506us/step - loss: 0.6050 - acc: 0.7853 - val_loss: 0.6887 - val_acc: 0.7651\n",
      "\n",
      "Epoch 10/20\n",
      "40000/40000 [==============================]40000/40000 [==============================] - 20s 511us/step - loss: 0.5717 - acc: 0.7964 - val_loss: 0.7175 - val_acc: 0.7608\n",
      "\n",
      "Epoch 11/20\n",
      "40000/40000 [==============================]40000/40000 [==============================] - 20s 503us/step - loss: 0.5383 - acc: 0.8089 - val_loss: 0.6755 - val_acc: 0.7747\n",
      "\n",
      "Epoch 12/20\n",
      "40000/40000 [==============================]40000/40000 [==============================] - 20s 505us/step - loss: 0.5171 - acc: 0.8181 - val_loss: 0.6732 - val_acc: 0.7722\n",
      "\n",
      "Epoch 13/20\n",
      "40000/40000 [==============================]40000/40000 [==============================] - 20s 511us/step - loss: 0.4998 - acc: 0.8246 - val_loss: 0.6795 - val_acc: 0.7736\n",
      "\n",
      "Epoch 14/20\n",
      "40000/40000 [==============================]40000/40000 [==============================] - 20s 506us/step - loss: 0.4719 - acc: 0.8322 - val_loss: 0.6837 - val_acc: 0.7743\n",
      "\n",
      "Epoch 15/20\n",
      "40000/40000 [==============================]40000/40000 [==============================] - 20s 503us/step - loss: 0.4500 - acc: 0.8419 - val_loss: 0.6747 - val_acc: 0.7746\n",
      "\n",
      "Epoch 16/20\n",
      "40000/40000 [==============================]40000/40000 [==============================] - 20s 503us/step - loss: 0.4409 - acc: 0.8436 - val_loss: 0.7232 - val_acc: 0.7704\n",
      "\n",
      "Epoch 17/20\n",
      "40000/40000 [==============================]40000/40000 [==============================] - 20s 504us/step - loss: 0.4284 - acc: 0.8501 - val_loss: 0.6847 - val_acc: 0.7822\n",
      "\n",
      "Epoch 18/20\n",
      "40000/40000 [==============================]40000/40000 [==============================] - 20s 503us/step - loss: 0.4046 - acc: 0.8573 - val_loss: 0.7486 - val_acc: 0.7656\n",
      "\n",
      "Epoch 19/20\n",
      "40000/40000 [==============================]40000/40000 [==============================] - 20s 503us/step - loss: 0.3993 - acc: 0.8600 - val_loss: 0.7245 - val_acc: 0.7719\n",
      "\n",
      "Epoch 20/20\n",
      "40000/40000 [==============================]40000/40000 [==============================] - 20s 504us/step - loss: 0.3948 - acc: 0.8609 - val_loss: 0.7341 - val_acc: 0.7750\n",
      "\n"
     ]
    }
   ],
   "source": [
    "from tensorflow.python.keras.callbacks import TensorBoard\n",
    "\n",
    "\n",
    "model.compile(\n",
    "    optimizer='adam',\n",
    "    loss='categorical_crossentropy',\n",
    "    metrics=['accuracy']\n",
    ")\n",
    "tsb = TensorBoard(log_dir='./logs')\n",
    "history_model1 = model.fit(\n",
    "    x_train,\n",
    "    y_train,\n",
    "    batch_size=32,\n",
    "    epochs=20,\n",
    "    validation_split=0.2,\n",
    "    callbacks=[tsb]\n",
    ")"
   ]
  }
 ],
 "metadata": {
  "kernelspec": {
   "display_name": "Python 3",
   "language": "python",
   "name": "python3"
  },
  "language_info": {
   "codemirror_mode": {
    "name": "ipython",
    "version": 3
   },
   "file_extension": ".py",
   "mimetype": "text/x-python",
   "name": "python",
   "nbconvert_exporter": "python",
   "pygments_lexer": "ipython3",
   "version": "3.7.0"
  }
 },
 "nbformat": 4,
 "nbformat_minor": 2
}

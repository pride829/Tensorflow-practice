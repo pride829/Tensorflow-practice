{
 "cells": [
  {
   "cell_type": "markdown",
   "id": "43b69467",
   "metadata": {},
   "source": [
    "BatchNormalization"
   ]
  },
  {
   "cell_type": "code",
   "execution_count": 17,
   "id": "0fa663e4",
   "metadata": {},
   "outputs": [],
   "source": [
    "from tensorflow.python.keras.models import Model\n",
    "from tensorflow.python.keras import layers\n",
    "from tensorflow import keras\n",
    "import numpy as np\n",
    "\n",
    "num_classes = 10\n",
    "\n",
    "(x_train, y_train), (x_test, y_test) = keras.datasets.mnist.load_data()\n",
    "\n",
    "x_train = x_train.astype(\"float32\") / 255.\n",
    "x_test = x_test.astype(\"float32\") /255.\n",
    "x_train = np.expand_dims(x_train, -1)\n",
    "x_test = np.expand_dims(x_test, -1)\n",
    "#print(\"x_train shape:\", x_train.shape)\n",
    "\n",
    "y_train = keras.utils.to_categorical(y_train, num_classes)\n",
    "y_test = keras.utils.to_categorical(y_test, num_classes)\n",
    "\n",
    "input_layer = layers.Input(shape=[28, 28, 1])\n",
    "flatten_0 = layers.Flatten()(input_layer)\n",
    "dense_0 = layers.Dense(64)(flatten_0)\n",
    "batch_0 = layers.BatchNormalization()(dense_0)\n",
    "act_0 = layers.Activation('relu')(batch_0)\n",
    "dense_1 = layers.Dense(64)(act_0)\n",
    "batch_1 = layers.BatchNormalization()(dense_1)\n",
    "act_1 = layers.Activation('relu')(batch_1)\n",
    "dense_2 = layers.Dense(10, activation='softmax')(act_1)"
   ]
  },
  {
   "cell_type": "code",
   "execution_count": 18,
   "id": "a23b63b2",
   "metadata": {},
   "outputs": [],
   "source": [
    "model = Model(inputs=[input_layer], outputs=[dense_2])"
   ]
  },
  {
   "cell_type": "code",
   "execution_count": 19,
   "id": "e2c826cb",
   "metadata": {},
   "outputs": [
    {
     "data": {
      "text/plain": [
       "(None, 10)"
      ]
     },
     "execution_count": 19,
     "metadata": {},
     "output_type": "execute_result"
    }
   ],
   "source": [
    "model.output_shape"
   ]
  },
  {
   "cell_type": "code",
   "execution_count": 20,
   "id": "5e463056",
   "metadata": {},
   "outputs": [],
   "source": [
    "model.compile(\n",
    "    loss='categorical_crossentropy',\n",
    "    optimizer='SGD',\n",
    "    metrics=['accuracy']\n",
    ")"
   ]
  },
  {
   "cell_type": "code",
   "execution_count": 22,
   "id": "e23056fa",
   "metadata": {},
   "outputs": [
    {
     "name": "stdout",
     "output_type": "stream",
     "text": [
      "Epoch 1/5\n",
      "1875/1875 [==============================] - 3s 1ms/step - loss: 0.5184 - accuracy: 0.8581 - val_loss: 0.2345 - val_accuracy: 0.9363\n",
      "Epoch 2/5\n",
      "1875/1875 [==============================] - 3s 1ms/step - loss: 0.2532 - accuracy: 0.9271 - val_loss: 0.1684 - val_accuracy: 0.9502\n",
      "Epoch 3/5\n",
      "1875/1875 [==============================] - 3s 2ms/step - loss: 0.1982 - accuracy: 0.9419 - val_loss: 0.1417 - val_accuracy: 0.9574\n",
      "Epoch 4/5\n",
      "1875/1875 [==============================] - 2s 1ms/step - loss: 0.1685 - accuracy: 0.9507 - val_loss: 0.1240 - val_accuracy: 0.9605\n",
      "Epoch 5/5\n",
      "1875/1875 [==============================] - 3s 1ms/step - loss: 0.1454 - accuracy: 0.9570 - val_loss: 0.1101 - val_accuracy: 0.9665\n"
     ]
    }
   ],
   "source": [
    "from tensorflow.keras.callbacks import TensorBoard\n",
    "\n",
    "tsb = TensorBoard(log_dir='./logs')\n",
    "\n",
    "history_adam = model.fit(\n",
    "    x_train,\n",
    "    y_train,\n",
    "    batch_size=32,\n",
    "    epochs=5,\n",
    "    #validation_split=0.2,\n",
    "    validation_data=(x_test, y_test),\n",
    "    callbacks=[tsb]\n",
    ")"
   ]
  },
  {
   "cell_type": "markdown",
   "id": "e62dec6f",
   "metadata": {},
   "source": [
    "Lamda"
   ]
  },
  {
   "cell_type": "code",
   "execution_count": 34,
   "id": "3183152a",
   "metadata": {},
   "outputs": [],
   "source": [
    "from tensorflow.python.keras.models import Model\n",
    "from tensorflow.python.keras import layers\n",
    "from tensorflow import keras\n",
    "import numpy as np\n",
    "\n",
    "num_classes = 10\n",
    "\n",
    "(x_train, y_train), (x_test, y_test) = keras.datasets.mnist.load_data()\n",
    "\n",
    "def l_func(x):\n",
    "    return x / 255.\n",
    "\n",
    "#x_train = x_train.astype(\"float32\") / 255.\n",
    "#x_test = x_test.astype(\"float32\") /255.\n",
    "x_train = np.expand_dims(x_train, -1)\n",
    "x_test = np.expand_dims(x_test, -1)\n",
    "\n",
    "y_train = keras.utils.to_categorical(y_train, num_classes)\n",
    "y_test = keras.utils.to_categorical(y_test, num_classes)\n",
    "\n",
    "input_layer = layers.Input(shape=[28, 28, 1])\n",
    "flatten_0 = layers.Flatten()(input_layer)\n",
    "#lambda_0 = layers.Lambda(lambda x: x/255.)(flatten_0)\n",
    "lambda_0 = layers.Lambda(l_func)(flatten_0)\n",
    "dense_0 = layers.Dense(64)(lambda_0)\n",
    "batch_0 = layers.BatchNormalization()(dense_0)\n",
    "act_0 = layers.Activation('LeakyReLU')(batch_0)\n",
    "dense_1 = layers.Dense(64)(act_0)\n",
    "batch_1 = layers.BatchNormalization()(dense_1)\n",
    "act_1 = layers.Activation('LeakyReLU')(batch_1)\n",
    "dense_2 = layers.Dense(10, activation='softmax')(act_1)"
   ]
  },
  {
   "cell_type": "code",
   "execution_count": 30,
   "id": "e878bbe7",
   "metadata": {},
   "outputs": [
    {
     "name": "stdout",
     "output_type": "stream",
     "text": [
      "Epoch 1/5\n",
      "1875/1875 [==============================] - 3s 1ms/step - loss: 0.4951 - accuracy: 0.8630 - val_loss: 0.2677 - val_accuracy: 0.9241\n",
      "Epoch 2/5\n",
      "1875/1875 [==============================] - 3s 2ms/step - loss: 0.2831 - accuracy: 0.9179 - val_loss: 0.2047 - val_accuracy: 0.9411\n",
      "Epoch 3/5\n",
      "1875/1875 [==============================] - 4s 2ms/step - loss: 0.2286 - accuracy: 0.9334 - val_loss: 0.1742 - val_accuracy: 0.9494\n",
      "Epoch 4/5\n",
      "1875/1875 [==============================] - 4s 2ms/step - loss: 0.1962 - accuracy: 0.9428 - val_loss: 0.1550 - val_accuracy: 0.9546\n",
      "Epoch 5/5\n",
      "1875/1875 [==============================] - 4s 2ms/step - loss: 0.1700 - accuracy: 0.9502 - val_loss: 0.1379 - val_accuracy: 0.9594\n"
     ]
    }
   ],
   "source": [
    "model = Model(inputs=[input_layer], outputs=[dense_2])\n",
    "model.output_shape\n",
    "\n",
    "model.compile(\n",
    "    loss='categorical_crossentropy',\n",
    "    optimizer='SGD',\n",
    "    metrics=['accuracy']\n",
    ")\n",
    "\n",
    "from tensorflow.keras.callbacks import TensorBoard\n",
    "\n",
    "tsb = TensorBoard(log_dir='./logs')\n",
    "\n",
    "history_adam = model.fit(\n",
    "    x_train,\n",
    "    y_train,\n",
    "    batch_size=32,\n",
    "    epochs=5,\n",
    "    #validation_split=0.2,\n",
    "    validation_data=(x_test, y_test),\n",
    "    callbacks=[tsb]\n",
    ")"
   ]
  },
  {
   "cell_type": "markdown",
   "id": "b95f7f29",
   "metadata": {},
   "source": [
    "ReLU在輸入小於0時輸出0\n",
    "\n",
    "LeakyReLU適用於 DCGAN"
   ]
  },
  {
   "cell_type": "markdown",
   "id": "501a6f5f",
   "metadata": {},
   "source": [
    "Using Backend"
   ]
  },
  {
   "cell_type": "code",
   "execution_count": 44,
   "id": "49bb170a",
   "metadata": {},
   "outputs": [],
   "source": [
    "from keras import backend\n",
    "\n",
    "def relu_advanced(x):\n",
    "    return backend.relu(x, max_value=0.02)"
   ]
  },
  {
   "cell_type": "code",
   "execution_count": 45,
   "id": "a5b58cdd",
   "metadata": {},
   "outputs": [],
   "source": [
    "from tensorflow.python.keras.models import Model\n",
    "from tensorflow.python.keras import layers\n",
    "from tensorflow import keras\n",
    "import numpy as np\n",
    "\n",
    "num_classes = 10\n",
    "\n",
    "(x_train, y_train), (x_test, y_test) = keras.datasets.mnist.load_data()\n",
    "\n",
    "def l_func(x):\n",
    "    return x / 255.\n",
    "\n",
    "#x_train = x_train.astype(\"float32\") / 255.\n",
    "#x_test = x_test.astype(\"float32\") /255.\n",
    "x_train = np.expand_dims(x_train, -1)\n",
    "x_test = np.expand_dims(x_test, -1)\n",
    "\n",
    "y_train = keras.utils.to_categorical(y_train, num_classes)\n",
    "y_test = keras.utils.to_categorical(y_test, num_classes)\n",
    "\n",
    "input_layer = layers.Input(shape=[28, 28, 1])\n",
    "flatten_0 = layers.Flatten()(input_layer)\n",
    "#lambda_0 = layers.Lambda(lambda x: x/255.)(flatten_0)\n",
    "lambda_0 = layers.Lambda(l_func)(flatten_0)\n",
    "dense_0 = layers.Dense(64)(lambda_0)\n",
    "batch_0 = layers.BatchNormalization()(dense_0)\n",
    "act_0 = layers.Activation(relu_advanced, name='relu_advanced')(batch_0)\n",
    "dense_1 = layers.Dense(64)(act_0)\n",
    "batch_1 = layers.BatchNormalization()(dense_1)\n",
    "act_1 = layers.Activation(relu_advanced, name='relu_advanced2')(batch_1)\n",
    "dense_2 = layers.Dense(10, activation='softmax')(act_1)"
   ]
  },
  {
   "cell_type": "code",
   "execution_count": 46,
   "id": "970304a7",
   "metadata": {},
   "outputs": [
    {
     "name": "stdout",
     "output_type": "stream",
     "text": [
      "Epoch 1/5\n",
      "1875/1875 [==============================] - 4s 2ms/step - loss: 2.2957 - accuracy: 0.1145 - val_loss: 2.2880 - val_accuracy: 0.1135\n",
      "Epoch 2/5\n",
      "1875/1875 [==============================] - 3s 2ms/step - loss: 2.2834 - accuracy: 0.1128 - val_loss: 2.2782 - val_accuracy: 0.1135\n",
      "Epoch 3/5\n",
      "1875/1875 [==============================] - 4s 2ms/step - loss: 2.2748 - accuracy: 0.1137 - val_loss: 2.2694 - val_accuracy: 0.1135\n",
      "Epoch 4/5\n",
      "1875/1875 [==============================] - 4s 2ms/step - loss: 2.2667 - accuracy: 0.1188 - val_loss: 2.2612 - val_accuracy: 0.1316\n",
      "Epoch 5/5\n",
      "1875/1875 [==============================] - 3s 2ms/step - loss: 2.2592 - accuracy: 0.1376 - val_loss: 2.2538 - val_accuracy: 0.1768\n"
     ]
    }
   ],
   "source": [
    "model = Model(inputs=[input_layer], outputs=[dense_2])\n",
    "model.output_shape\n",
    "\n",
    "model.compile(\n",
    "    loss='categorical_crossentropy',\n",
    "    optimizer='SGD',\n",
    "    metrics=['accuracy']\n",
    ")\n",
    "\n",
    "from tensorflow.keras.callbacks import TensorBoard\n",
    "\n",
    "tsb = TensorBoard(log_dir='./logs')\n",
    "\n",
    "history_adam = model.fit(\n",
    "    x_train,\n",
    "    y_train,\n",
    "    batch_size=32,\n",
    "    epochs=5,\n",
    "    #validation_split=0.2,\n",
    "    validation_data=(x_test, y_test),\n",
    "    callbacks=[tsb]\n",
    ")"
   ]
  },
  {
   "cell_type": "code",
   "execution_count": null,
   "id": "87c3e4d5",
   "metadata": {},
   "outputs": [],
   "source": []
  }
 ],
 "metadata": {
  "kernelspec": {
   "display_name": "Python 3",
   "language": "python",
   "name": "python3"
  },
  "language_info": {
   "codemirror_mode": {
    "name": "ipython",
    "version": 3
   },
   "file_extension": ".py",
   "mimetype": "text/x-python",
   "name": "python",
   "nbconvert_exporter": "python",
   "pygments_lexer": "ipython3",
   "version": "3.8.8"
  }
 },
 "nbformat": 4,
 "nbformat_minor": 5
}

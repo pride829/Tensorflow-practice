{
 "cells": [
  {
   "cell_type": "code",
   "execution_count": 2,
   "id": "7925fa1b",
   "metadata": {},
   "outputs": [
    {
     "name": "stdout",
     "output_type": "stream",
     "text": [
      "Downloading data from https://storage.googleapis.com/tensorflow/keras-applications/vgg16/vgg16_weights_tf_dim_ordering_tf_kernels.h5\n",
      "553467904/553467096 [==============================] - 40s 0us/step\n",
      "553476096/553467096 [==============================] - 40s 0us/step\n",
      "Model: \"vgg16\"\n",
      "_________________________________________________________________\n",
      " Layer (type)                Output Shape              Param #   \n",
      "=================================================================\n",
      " input_1 (InputLayer)        [(None, 224, 224, 3)]     0         \n",
      "                                                                 \n",
      " block1_conv1 (Conv2D)       (None, 224, 224, 64)      1792      \n",
      "                                                                 \n",
      " block1_conv2 (Conv2D)       (None, 224, 224, 64)      36928     \n",
      "                                                                 \n",
      " block1_pool (MaxPooling2D)  (None, 112, 112, 64)      0         \n",
      "                                                                 \n",
      " block2_conv1 (Conv2D)       (None, 112, 112, 128)     73856     \n",
      "                                                                 \n",
      " block2_conv2 (Conv2D)       (None, 112, 112, 128)     147584    \n",
      "                                                                 \n",
      " block2_pool (MaxPooling2D)  (None, 56, 56, 128)       0         \n",
      "                                                                 \n",
      " block3_conv1 (Conv2D)       (None, 56, 56, 256)       295168    \n",
      "                                                                 \n",
      " block3_conv2 (Conv2D)       (None, 56, 56, 256)       590080    \n",
      "                                                                 \n",
      " block3_conv3 (Conv2D)       (None, 56, 56, 256)       590080    \n",
      "                                                                 \n",
      " block3_pool (MaxPooling2D)  (None, 28, 28, 256)       0         \n",
      "                                                                 \n",
      " block4_conv1 (Conv2D)       (None, 28, 28, 512)       1180160   \n",
      "                                                                 \n",
      " block4_conv2 (Conv2D)       (None, 28, 28, 512)       2359808   \n",
      "                                                                 \n",
      " block4_conv3 (Conv2D)       (None, 28, 28, 512)       2359808   \n",
      "                                                                 \n",
      " block4_pool (MaxPooling2D)  (None, 14, 14, 512)       0         \n",
      "                                                                 \n",
      " block5_conv1 (Conv2D)       (None, 14, 14, 512)       2359808   \n",
      "                                                                 \n",
      " block5_conv2 (Conv2D)       (None, 14, 14, 512)       2359808   \n",
      "                                                                 \n",
      " block5_conv3 (Conv2D)       (None, 14, 14, 512)       2359808   \n",
      "                                                                 \n",
      " block5_pool (MaxPooling2D)  (None, 7, 7, 512)         0         \n",
      "                                                                 \n",
      " flatten (Flatten)           (None, 25088)             0         \n",
      "                                                                 \n",
      " fc1 (Dense)                 (None, 4096)              102764544 \n",
      "                                                                 \n",
      " fc2 (Dense)                 (None, 4096)              16781312  \n",
      "                                                                 \n",
      " predictions (Dense)         (None, 1000)              4097000   \n",
      "                                                                 \n",
      "=================================================================\n",
      "Total params: 138,357,544\n",
      "Trainable params: 138,357,544\n",
      "Non-trainable params: 0\n",
      "_________________________________________________________________\n"
     ]
    }
   ],
   "source": [
    "from tensorflow.keras.applications.vgg16 import VGG16\n",
    "\n",
    "model = VGG16()\n",
    "\n",
    "model.summary()"
   ]
  },
  {
   "cell_type": "code",
   "execution_count": 4,
   "id": "33e54c2b",
   "metadata": {},
   "outputs": [],
   "source": [
    "from tensorflow.keras.preprocessing.image import load_img\n",
    "\n",
    "img_dog = load_img('img/dog.jpg', target_size=(224, 224))\n",
    "img_cat = load_img('img/cat.jpg', target_size=(224, 224))"
   ]
  },
  {
   "cell_type": "code",
   "execution_count": 5,
   "id": "d209037a",
   "metadata": {},
   "outputs": [
    {
     "data": {
      "image/png": "[encoded data removed]",
      "text/plain": [
       "<PIL.Image.Image image mode=RGB size=224x224 at 0x7F2B441DF070>"
      ]
     },
     "execution_count": 5,
     "metadata": {},
     "output_type": "execute_result"
    }
   ],
   "source": [
    "img_dog"
   ]
  },
  {
   "cell_type": "code",
   "execution_count": 13,
   "id": "28d349cb",
   "metadata": {},
   "outputs": [],
   "source": [
    "from tensorflow.keras.preprocessing.image import img_to_array\n",
    "\n",
    "arr_cat = img_to_array(img_cat)\n",
    "arr_dog = img_to_array(img_dog)"
   ]
  },
  {
   "cell_type": "code",
   "execution_count": 14,
   "id": "18283d10",
   "metadata": {},
   "outputs": [
    {
     "data": {
      "text/plain": [
       "array([[[  1.,  61.,  89.],\n",
       "        [  2.,  63.,  91.],\n",
       "        [  1.,  65.,  92.],\n",
       "        ...,\n",
       "        [  2.,  39.,  65.],\n",
       "        [  2.,  38.,  62.],\n",
       "        [  1.,  36.,  58.]],\n",
       "\n",
       "       [[  1.,  61.,  89.],\n",
       "        [  2.,  63.,  91.],\n",
       "        [  1.,  65.,  92.],\n",
       "        ...,\n",
       "        [  2.,  39.,  65.],\n",
       "        [  2.,  38.,  62.],\n",
       "        [  1.,  36.,  58.]],\n",
       "\n",
       "       [[  1.,  61.,  89.],\n",
       "        [  2.,  63.,  91.],\n",
       "        [  1.,  65.,  92.],\n",
       "        ...,\n",
       "        [  2.,  39.,  65.],\n",
       "        [  2.,  38.,  62.],\n",
       "        [  1.,  36.,  58.]],\n",
       "\n",
       "       ...,\n",
       "\n",
       "       [[  2.,  76., 115.],\n",
       "        [  3.,  78., 117.],\n",
       "        [  2.,  80., 118.],\n",
       "        ...,\n",
       "        [  2.,  38.,  62.],\n",
       "        [  2.,  37.,  57.],\n",
       "        [  2.,  35.,  54.]],\n",
       "\n",
       "       [[  2.,  76., 115.],\n",
       "        [  3.,  78., 117.],\n",
       "        [  2.,  80., 118.],\n",
       "        ...,\n",
       "        [  2.,  38.,  62.],\n",
       "        [  2.,  37.,  57.],\n",
       "        [  2.,  35.,  54.]],\n",
       "\n",
       "       [[  2.,  76., 115.],\n",
       "        [  3.,  78., 117.],\n",
       "        [  2.,  80., 118.],\n",
       "        ...,\n",
       "        [  2.,  38.,  62.],\n",
       "        [  2.,  37.,  57.],\n",
       "        [  2.,  35.,  54.]]], dtype=float32)"
      ]
     },
     "execution_count": 14,
     "metadata": {},
     "output_type": "execute_result"
    }
   ],
   "source": [
    "arr_dog"
   ]
  },
  {
   "cell_type": "code",
   "execution_count": 15,
   "id": "5ef37eaf",
   "metadata": {},
   "outputs": [],
   "source": [
    "from tensorflow.keras.applications.vgg16 import preprocess_input\n",
    "\n",
    "# preprocess_input是給vgg16用的\n",
    "\n",
    "arr_cat = preprocess_input(arr_cat)\n",
    "arr_dog = preprocess_input(arr_dog)"
   ]
  },
  {
   "cell_type": "code",
   "execution_count": 16,
   "id": "5d578e16",
   "metadata": {},
   "outputs": [
    {
     "data": {
      "text/plain": [
       "array([[[ -14.939003,  -55.779   , -122.68    ],\n",
       "        [ -12.939003,  -53.779   , -121.68    ],\n",
       "        [ -11.939003,  -51.779   , -122.68    ],\n",
       "        ...,\n",
       "        [ -38.939003,  -77.779   , -121.68    ],\n",
       "        [ -41.939003,  -78.779   , -121.68    ],\n",
       "        [ -45.939003,  -80.779   , -122.68    ]],\n",
       "\n",
       "       [[ -14.939003,  -55.779   , -122.68    ],\n",
       "        [ -12.939003,  -53.779   , -121.68    ],\n",
       "        [ -11.939003,  -51.779   , -122.68    ],\n",
       "        ...,\n",
       "        [ -38.939003,  -77.779   , -121.68    ],\n",
       "        [ -41.939003,  -78.779   , -121.68    ],\n",
       "        [ -45.939003,  -80.779   , -122.68    ]],\n",
       "\n",
       "       [[ -14.939003,  -55.779   , -122.68    ],\n",
       "        [ -12.939003,  -53.779   , -121.68    ],\n",
       "        [ -11.939003,  -51.779   , -122.68    ],\n",
       "        ...,\n",
       "        [ -38.939003,  -77.779   , -121.68    ],\n",
       "        [ -41.939003,  -78.779   , -121.68    ],\n",
       "        [ -45.939003,  -80.779   , -122.68    ]],\n",
       "\n",
       "       ...,\n",
       "\n",
       "       [[  11.060997,  -40.779   , -121.68    ],\n",
       "        [  13.060997,  -38.779   , -120.68    ],\n",
       "        [  14.060997,  -36.779   , -121.68    ],\n",
       "        ...,\n",
       "        [ -41.939003,  -78.779   , -121.68    ],\n",
       "        [ -46.939003,  -79.779   , -121.68    ],\n",
       "        [ -49.939003,  -81.779   , -121.68    ]],\n",
       "\n",
       "       [[  11.060997,  -40.779   , -121.68    ],\n",
       "        [  13.060997,  -38.779   , -120.68    ],\n",
       "        [  14.060997,  -36.779   , -121.68    ],\n",
       "        ...,\n",
       "        [ -41.939003,  -78.779   , -121.68    ],\n",
       "        [ -46.939003,  -79.779   , -121.68    ],\n",
       "        [ -49.939003,  -81.779   , -121.68    ]],\n",
       "\n",
       "       [[  11.060997,  -40.779   , -121.68    ],\n",
       "        [  13.060997,  -38.779   , -120.68    ],\n",
       "        [  14.060997,  -36.779   , -121.68    ],\n",
       "        ...,\n",
       "        [ -41.939003,  -78.779   , -121.68    ],\n",
       "        [ -46.939003,  -79.779   , -121.68    ],\n",
       "        [ -49.939003,  -81.779   , -121.68    ]]], dtype=float32)"
      ]
     },
     "execution_count": 16,
     "metadata": {},
     "output_type": "execute_result"
    }
   ],
   "source": [
    "arr_dog"
   ]
  },
  {
   "cell_type": "code",
   "execution_count": 17,
   "id": "1392b78b",
   "metadata": {},
   "outputs": [],
   "source": [
    "import numpy as np\n",
    "\n",
    "arr_input = np.stack([arr_dog, arr_cat])"
   ]
  },
  {
   "cell_type": "code",
   "execution_count": 18,
   "id": "37279ce5",
   "metadata": {},
   "outputs": [
    {
     "data": {
      "text/plain": [
       "(2, 224, 224, 3)"
      ]
     },
     "execution_count": 18,
     "metadata": {},
     "output_type": "execute_result"
    }
   ],
   "source": [
    "arr_input.shape"
   ]
  },
  {
   "cell_type": "code",
   "execution_count": 19,
   "id": "0eb71303",
   "metadata": {},
   "outputs": [
    {
     "name": "stdout",
     "output_type": "stream",
     "text": [
      "(2, 1000)\n"
     ]
    }
   ],
   "source": [
    "probs = model.predict(arr_input)\n",
    "\n",
    "print(probs.shape)"
   ]
  },
  {
   "cell_type": "code",
   "execution_count": 20,
   "id": "5590a1e5",
   "metadata": {},
   "outputs": [
    {
     "data": {
      "text/plain": [
       "array([[8.0769314e-07, 1.5332682e-05, 4.9159025e-06, ..., 8.5417349e-07,\n",
       "        1.8960727e-05, 9.3308125e-05],\n",
       "       [5.0006486e-07, 5.4917501e-07, 7.1321847e-07, ..., 1.4433091e-07,\n",
       "        4.9464375e-06, 7.9034311e-05]], dtype=float32)"
      ]
     },
     "execution_count": 20,
     "metadata": {},
     "output_type": "execute_result"
    }
   ],
   "source": [
    "probs"
   ]
  },
  {
   "cell_type": "code",
   "execution_count": 21,
   "id": "3558a467",
   "metadata": {},
   "outputs": [
    {
     "name": "stdout",
     "output_type": "stream",
     "text": [
      "Downloading data from https://storage.googleapis.com/download.tensorflow.org/data/imagenet_class_index.json\n",
      "40960/35363 [==================================] - 0s 0us/step\n",
      "49152/35363 [=========================================] - 0s 0us/step\n"
     ]
    }
   ],
   "source": [
    "from tensorflow.keras.applications.vgg16 import decode_predictions\n",
    "\n",
    "results = decode_predictions(probs)"
   ]
  },
  {
   "cell_type": "code",
   "execution_count": 22,
   "id": "50962cdd",
   "metadata": {},
   "outputs": [
    {
     "data": {
      "text/plain": [
       "[('n02113023', 'Pembroke', 0.28141773),\n",
       " ('n02115641', 'dingo', 0.23713641),\n",
       " ('n02109961', 'Eskimo_dog', 0.1773607),\n",
       " ('n02110806', 'basenji', 0.1573173),\n",
       " ('n02110185', 'Siberian_husky', 0.0663174)]"
      ]
     },
     "execution_count": 22,
     "metadata": {},
     "output_type": "execute_result"
    }
   ],
   "source": [
    "results[0]"
   ]
  },
  {
   "cell_type": "code",
   "execution_count": 23,
   "id": "b133f2cb",
   "metadata": {},
   "outputs": [],
   "source": [
    "%matplotlib inline"
   ]
  },
  {
   "cell_type": "code",
   "execution_count": 26,
   "id": "b61f126b",
   "metadata": {},
   "outputs": [],
   "source": [
    "# Output layer does not included\n",
    "vgg16 = VGG16(include_top=False, input_shape=(224, 224, 3))"
   ]
  },
  {
   "cell_type": "code",
   "execution_count": 27,
   "id": "09c2479c",
   "metadata": {},
   "outputs": [
    {
     "name": "stdout",
     "output_type": "stream",
     "text": [
      "Model: \"vgg16\"\n",
      "_________________________________________________________________\n",
      " Layer (type)                Output Shape              Param #   \n",
      "=================================================================\n",
      " input_3 (InputLayer)        [(None, 224, 224, 3)]     0         \n",
      "                                                                 \n",
      " block1_conv1 (Conv2D)       (None, 224, 224, 64)      1792      \n",
      "                                                                 \n",
      " block1_conv2 (Conv2D)       (None, 224, 224, 64)      36928     \n",
      "                                                                 \n",
      " block1_pool (MaxPooling2D)  (None, 112, 112, 64)      0         \n",
      "                                                                 \n",
      " block2_conv1 (Conv2D)       (None, 112, 112, 128)     73856     \n",
      "                                                                 \n",
      " block2_conv2 (Conv2D)       (None, 112, 112, 128)     147584    \n",
      "                                                                 \n",
      " block2_pool (MaxPooling2D)  (None, 56, 56, 128)       0         \n",
      "                                                                 \n",
      " block3_conv1 (Conv2D)       (None, 56, 56, 256)       295168    \n",
      "                                                                 \n",
      " block3_conv2 (Conv2D)       (None, 56, 56, 256)       590080    \n",
      "                                                                 \n",
      " block3_conv3 (Conv2D)       (None, 56, 56, 256)       590080    \n",
      "                                                                 \n",
      " block3_pool (MaxPooling2D)  (None, 28, 28, 256)       0         \n",
      "                                                                 \n",
      " block4_conv1 (Conv2D)       (None, 28, 28, 512)       1180160   \n",
      "                                                                 \n",
      " block4_conv2 (Conv2D)       (None, 28, 28, 512)       2359808   \n",
      "                                                                 \n",
      " block4_conv3 (Conv2D)       (None, 28, 28, 512)       2359808   \n",
      "                                                                 \n",
      " block4_pool (MaxPooling2D)  (None, 14, 14, 512)       0         \n",
      "                                                                 \n",
      " block5_conv1 (Conv2D)       (None, 14, 14, 512)       2359808   \n",
      "                                                                 \n",
      " block5_conv2 (Conv2D)       (None, 14, 14, 512)       2359808   \n",
      "                                                                 \n",
      " block5_conv3 (Conv2D)       (None, 14, 14, 512)       2359808   \n",
      "                                                                 \n",
      " block5_pool (MaxPooling2D)  (None, 7, 7, 512)         0         \n",
      "                                                                 \n",
      "=================================================================\n",
      "Total params: 14,714,688\n",
      "Trainable params: 14,714,688\n",
      "Non-trainable params: 0\n",
      "_________________________________________________________________\n"
     ]
    }
   ],
   "source": [
    "vgg16.summary()"
   ]
  },
  {
   "cell_type": "code",
   "execution_count": 34,
   "id": "481d8f5d",
   "metadata": {},
   "outputs": [],
   "source": [
    "from tensorflow.keras import layers\n",
    "from tensorflow.keras.models import Sequential\n",
    "\n",
    "#def build_transfer_model_functional(vgg16):\n",
    "#    dense_0 = layers.Dense(units=512, activation='relu')(vgg16)   \n",
    "#    return model\n",
    "\n",
    "def build_transfer_model(vgg16):\n",
    "\n",
    "    model = Sequential(vgg16.layers)\n",
    "    \n",
    "    for layer in model.layers[:15]:\n",
    "        layer.trainable = False\n",
    "    \n",
    "    model.add(layers.Flatten())\n",
    "    model.add(layers.Dense(256, activation='relu'))\n",
    "    model.add(layers.Dropout(0.5))\n",
    "    model.add(layers.Dense(1, activation='sigmoid'))\n",
    "    \n",
    "    return model\n",
    "    "
   ]
  },
  {
   "cell_type": "code",
   "execution_count": 35,
   "id": "1f3d5bb5",
   "metadata": {},
   "outputs": [],
   "source": [
    "model = build_transfer_model(vgg16)"
   ]
  },
  {
   "cell_type": "code",
   "execution_count": 37,
   "id": "75bcd93a",
   "metadata": {},
   "outputs": [],
   "source": [
    "from tensorflow.keras.optimizers import SGD\n",
    "\n",
    "model.compile(\n",
    "    loss='binary_crossentropy',\n",
    "    optimizer=SGD(learning_rate=1e-4, momentum=0.9),\n",
    "    metrics=['accuracy']\n",
    ")"
   ]
  },
  {
   "cell_type": "code",
   "execution_count": 38,
   "id": "dccbb810",
   "metadata": {},
   "outputs": [
    {
     "name": "stdout",
     "output_type": "stream",
     "text": [
      "Model: \"sequential_1\"\n",
      "_________________________________________________________________\n",
      " Layer (type)                Output Shape              Param #   \n",
      "=================================================================\n",
      " block1_conv1 (Conv2D)       (None, 224, 224, 64)      1792      \n",
      "                                                                 \n",
      " block1_conv2 (Conv2D)       (None, 224, 224, 64)      36928     \n",
      "                                                                 \n",
      " block1_pool (MaxPooling2D)  (None, 112, 112, 64)      0         \n",
      "                                                                 \n",
      " block2_conv1 (Conv2D)       (None, 112, 112, 128)     73856     \n",
      "                                                                 \n",
      " block2_conv2 (Conv2D)       (None, 112, 112, 128)     147584    \n",
      "                                                                 \n",
      " block2_pool (MaxPooling2D)  (None, 56, 56, 128)       0         \n",
      "                                                                 \n",
      " block3_conv1 (Conv2D)       (None, 56, 56, 256)       295168    \n",
      "                                                                 \n",
      " block3_conv2 (Conv2D)       (None, 56, 56, 256)       590080    \n",
      "                                                                 \n",
      " block3_conv3 (Conv2D)       (None, 56, 56, 256)       590080    \n",
      "                                                                 \n",
      " block3_pool (MaxPooling2D)  (None, 28, 28, 256)       0         \n",
      "                                                                 \n",
      " block4_conv1 (Conv2D)       (None, 28, 28, 512)       1180160   \n",
      "                                                                 \n",
      " block4_conv2 (Conv2D)       (None, 28, 28, 512)       2359808   \n",
      "                                                                 \n",
      " block4_conv3 (Conv2D)       (None, 28, 28, 512)       2359808   \n",
      "                                                                 \n",
      " block4_pool (MaxPooling2D)  (None, 14, 14, 512)       0         \n",
      "                                                                 \n",
      " block5_conv1 (Conv2D)       (None, 14, 14, 512)       2359808   \n",
      "                                                                 \n",
      " block5_conv2 (Conv2D)       (None, 14, 14, 512)       2359808   \n",
      "                                                                 \n",
      " block5_conv3 (Conv2D)       (None, 14, 14, 512)       2359808   \n",
      "                                                                 \n",
      " block5_pool (MaxPooling2D)  (None, 7, 7, 512)         0         \n",
      "                                                                 \n",
      " flatten (Flatten)           (None, 25088)             0         \n",
      "                                                                 \n",
      " dense_1 (Dense)             (None, 256)               6422784   \n",
      "                                                                 \n",
      " dropout (Dropout)           (None, 256)               0         \n",
      "                                                                 \n",
      " dense_2 (Dense)             (None, 1)                 257       \n",
      "                                                                 \n",
      "=================================================================\n",
      "Total params: 21,137,729\n",
      "Trainable params: 11,142,657\n",
      "Non-trainable params: 9,995,072\n",
      "_________________________________________________________________\n"
     ]
    }
   ],
   "source": [
    "model.summary()"
   ]
  },
  {
   "cell_type": "code",
   "execution_count": 48,
   "id": "f25ac2bc",
   "metadata": {},
   "outputs": [
    {
     "name": "stdout",
     "output_type": "stream",
     "text": [
      "Found 600 images belonging to 2 classes.\n",
      "Found 200 images belonging to 2 classes.\n"
     ]
    }
   ],
   "source": [
    "from tensorflow.keras.preprocessing.image import ImageDataGenerator\n",
    "from tensorflow.keras.applications.vgg16 import preprocess_input\n",
    "\n",
    "idg_train = ImageDataGenerator(\n",
    "    rescale=1/255.,\n",
    "    shear_range=0.1,\n",
    "    zoom_range=0.1,\n",
    "    horizontal_flip=True,\n",
    "    preprocessing_function=preprocess_input\n",
    ")\n",
    "\n",
    "img_itr_train = idg_train.flow_from_directory(\n",
    "    'img/shrine_temple/train',\n",
    "    target_size=(224, 224),\n",
    "    batch_size=16,\n",
    "    class_mode='binary'\n",
    "    \n",
    ")\n",
    "\n",
    "img_itr_validation = idg_train.flow_from_directory(\n",
    "    'img/shrine_temple/validation',\n",
    "    target_size=(224, 224),\n",
    "    batch_size=16,\n",
    "    class_mode='binary'\n",
    "    \n",
    ")"
   ]
  },
  {
   "cell_type": "code",
   "execution_count": 46,
   "id": "5d4f0959",
   "metadata": {},
   "outputs": [
    {
     "data": {
      "text/plain": [
       "keras.preprocessing.image.DirectoryIterator"
      ]
     },
     "execution_count": 46,
     "metadata": {},
     "output_type": "execute_result"
    }
   ],
   "source": [
    "type(img_itr_train)"
   ]
  },
  {
   "cell_type": "code",
   "execution_count": 52,
   "id": "c50a8aec",
   "metadata": {},
   "outputs": [
    {
     "name": "stdout",
     "output_type": "stream",
     "text": [
      "models/211123_2056\n"
     ]
    }
   ],
   "source": [
    "import os\n",
    "from datetime import datetime\n",
    "\n",
    "model_dir = os.path.join(\n",
    "    'models',\n",
    "    datetime.now().strftime('%y%m%d_%H%M')\n",
    ")\n",
    "\n",
    "print(model_dir)\n",
    "\n",
    "os.makedirs(model_dir, exist_ok=True)\n",
    "\n",
    "dir_weights = os.path.join(model_dir, 'weights')\n",
    "\n",
    "os.makedirs(dir_weights, exist_ok=True)\n"
   ]
  },
  {
   "cell_type": "code",
   "execution_count": 54,
   "id": "8ca6ca93",
   "metadata": {},
   "outputs": [],
   "source": [
    "import json\n",
    "import pickle\n",
    "\n",
    "model_json = os.path.join(model_dir, 'model.json')\n",
    "with open(model_json, 'w') as f:\n",
    "    json.dump(model.to_json(), f)\n",
    "\n",
    "model_classes = os.path.join(model_dir, 'classes.pkl')\n",
    "with open(model_classes, 'wb') as f:\n",
    "    pickle.dump(img_itr_train.class_indices, f)\n",
    "    "
   ]
  },
  {
   "cell_type": "code",
   "execution_count": null,
   "id": "e90c520a",
   "metadata": {},
   "outputs": [],
   "source": []
  }
 ],
 "metadata": {
  "kernelspec": {
   "display_name": "Python 3",
   "language": "python",
   "name": "python3"
  },
  "language_info": {
   "codemirror_mode": {
    "name": "ipython",
    "version": 3
   },
   "file_extension": ".py",
   "mimetype": "text/x-python",
   "name": "python",
   "nbconvert_exporter": "python",
   "pygments_lexer": "ipython3",
   "version": "3.8.8"
  }
 },
 "nbformat": 4,
 "nbformat_minor": 5
}

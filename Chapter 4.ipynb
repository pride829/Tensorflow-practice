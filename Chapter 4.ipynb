{
 "cells": [
  {
   "cell_type": "code",
   "execution_count": 1,
   "id": "a19e2d7d",
   "metadata": {},
   "outputs": [
    {
     "name": "stdout",
     "output_type": "stream",
     "text": [
      "[name: \"/device:CPU:0\"\n",
      "device_type: \"CPU\"\n",
      "memory_limit: 268435456\n",
      "locality {\n",
      "}\n",
      "incarnation: 2618539248578613044\n",
      "xla_global_id: -1\n",
      "]\n"
     ]
    }
   ],
   "source": [
    "from tensorflow.python.client import device_lib\n",
    "print(device_lib.list_local_devices())"
   ]
  },
  {
   "cell_type": "code",
   "execution_count": 2,
   "id": "417b8d7a",
   "metadata": {},
   "outputs": [],
   "source": [
    "from tensorflow import keras\n",
    "from keras.datasets import mnist\n",
    "\n",
    "(x_train, y_train), (x_test, y_test) = mnist.load_data()"
   ]
  },
  {
   "cell_type": "code",
   "execution_count": 3,
   "id": "db34215f",
   "metadata": {},
   "outputs": [
    {
     "name": "stdout",
     "output_type": "stream",
     "text": [
      "(60000, 28, 28)\n",
      "(10000, 28, 28)\n",
      "(60000,)\n",
      "(10000,)\n"
     ]
    }
   ],
   "source": [
    "print(x_train.shape)\n",
    "print(x_test.shape)\n",
    "print(y_train.shape)\n",
    "print(y_test.shape)"
   ]
  },
  {
   "cell_type": "code",
   "execution_count": 4,
   "id": "f4223e5c",
   "metadata": {},
   "outputs": [],
   "source": [
    "x_train = x_train.reshape(60000, 784)\n",
    "x_test = x_test.reshape(10000, 784)\n",
    "x_train = x_train/255.\n",
    "x_test = x_test/255."
   ]
  },
  {
   "cell_type": "code",
   "execution_count": 5,
   "id": "c4aa6597",
   "metadata": {},
   "outputs": [],
   "source": [
    "#from keras.utils import to_categorical\n",
    "from tensorflow.keras.utils import to_categorical\n",
    "#tensorflow.keras.utils.to_categorical\n",
    "\n",
    "y_train_oneHot = to_categorical(y_train, 10)\n",
    "y_test_oneHot = to_categorical(y_test, 10)"
   ]
  },
  {
   "cell_type": "markdown",
   "id": "a37f71f4",
   "metadata": {},
   "source": [
    "Keras is now fully intregrated into Tensorflow. So, importing only Keras causes error.\n",
    "\n",
    "It should be imported as:\n",
    "\n",
    "```\n",
    "from tensorflow.keras.utils import to_categorical\n",
    "```\n",
    "\n",
    "Instead of this:\n",
    "\n",
    "```\n",
    "from keras.utils import to_categorical\n",
    "```"
   ]
  },
  {
   "cell_type": "code",
   "execution_count": 6,
   "id": "8687b315",
   "metadata": {},
   "outputs": [],
   "source": [
    "from tensorflow.python.keras.models import Sequential\n",
    "# tensorflow底下有keras，但tensorflow.python底下也有keras\n",
    "\n",
    "model = Sequential()"
   ]
  },
  {
   "cell_type": "code",
   "execution_count": 7,
   "id": "7413b63e",
   "metadata": {},
   "outputs": [],
   "source": [
    "from tensorflow.python.keras import layers\n",
    "#from tensorflow.keras import layers\n",
    "model.add(\n",
    "    layers.Dense(\n",
    "        units=64,\n",
    "        input_shape=(784,),\n",
    "        activation='relu'\n",
    "    )\n",
    "\n",
    ")\n",
    "\n",
    "model.add(\n",
    "    layers.Dense(\n",
    "        units=10,\n",
    "        activation='softmax'\n",
    "    )\n",
    ")"
   ]
  },
  {
   "cell_type": "code",
   "execution_count": 8,
   "id": "65f5f6b2",
   "metadata": {},
   "outputs": [],
   "source": [
    "from tensorflow.keras.callbacks import TensorBoard\n",
    "\n",
    "model.compile(\n",
    "    optimizer = 'adam',\n",
    "    loss = 'categorical_crossentropy',\n",
    "    metrics = ['accuracy']\n",
    ")\n",
    "\n",
    "tsb = TensorBoard(log_dir='./logs')\n",
    "\n",
    "#history_adam = model.fit(\n",
    "#    x_train,\n",
    "#    y_train_oneHot,\n",
    "#    batch_size=32,\n",
    "#    epochs=5,\n",
    "#    validation_split=0.2,\n",
    "#    callbacks=[tsb]\n",
    "#)"
   ]
  },
  {
   "cell_type": "code",
   "execution_count": 9,
   "id": "9128b8d3",
   "metadata": {},
   "outputs": [],
   "source": [
    "from tensorflow.keras import layers\n",
    "from tensorflow.keras import models\n",
    "\n",
    "input = layers.Input(shape=[784,])\n",
    "middle = layers.Dense(units=64, activation='relu')(input)\n",
    "output = layers.Dense(units=10, activation='softmax')(middle)\n",
    "model = models.Model(inputs=[input], outputs=[output])"
   ]
  },
  {
   "cell_type": "code",
   "execution_count": 10,
   "id": "66c73ed7",
   "metadata": {},
   "outputs": [],
   "source": [
    "model.compile(\n",
    "    optimizer='adam',\n",
    "    loss='categorical_crossentropy',\n",
    "    metrics=['accuracy']\n",
    ")"
   ]
  },
  {
   "cell_type": "code",
   "execution_count": 12,
   "id": "c27c2ac7",
   "metadata": {},
   "outputs": [
    {
     "name": "stdout",
     "output_type": "stream",
     "text": [
      "Epoch 1/5\n",
      "1500/1500 [==============================] - 1s 763us/step - loss: 0.0642 - accuracy: 0.9807 - val_loss: 0.1053 - val_accuracy: 0.9697\n",
      "Epoch 2/5\n",
      "1500/1500 [==============================] - 1s 719us/step - loss: 0.0548 - accuracy: 0.9839 - val_loss: 0.1056 - val_accuracy: 0.9705\n",
      "Epoch 3/5\n",
      "1500/1500 [==============================] - 1s 744us/step - loss: 0.0459 - accuracy: 0.9864 - val_loss: 0.1008 - val_accuracy: 0.9712\n",
      "Epoch 4/5\n",
      "1500/1500 [==============================] - 2s 1ms/step - loss: 0.0385 - accuracy: 0.9889 - val_loss: 0.1165 - val_accuracy: 0.9691\n",
      "Epoch 5/5\n",
      "1500/1500 [==============================] - 2s 1ms/step - loss: 0.0335 - accuracy: 0.9900 - val_loss: 0.1052 - val_accuracy: 0.9712\n"
     ]
    },
    {
     "data": {
      "text/plain": [
       "<keras.callbacks.History at 0x7fa20c7e85e0>"
      ]
     },
     "execution_count": 12,
     "metadata": {},
     "output_type": "execute_result"
    }
   ],
   "source": [
    "# Clear any logs from previous runs\n",
    "%rm -rf ./logs/\n",
    "\n",
    "model.fit(\n",
    "    x_train,\n",
    "    y_train_oneHot,\n",
    "    batch_size=32,\n",
    "    epochs=5,\n",
    "    callbacks=[tsb],\n",
    "    validation_split=0.2\n",
    ")"
   ]
  },
  {
   "cell_type": "code",
   "execution_count": null,
   "id": "c7bc8da8",
   "metadata": {},
   "outputs": [],
   "source": []
  }
 ],
 "metadata": {
  "kernelspec": {
   "display_name": "Python 3",
   "language": "python",
   "name": "python3"
  },
  "language_info": {
   "codemirror_mode": {
    "name": "ipython",
    "version": 3
   },
   "file_extension": ".py",
   "mimetype": "text/x-python",
   "name": "python",
   "nbconvert_exporter": "python",
   "pygments_lexer": "ipython3",
   "version": "3.8.8"
  }
 },
 "nbformat": 4,
 "nbformat_minor": 5
}

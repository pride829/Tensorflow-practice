{
 "cells": [
  {
   "cell_type": "code",
   "execution_count": 12,
   "id": "a19e2d7d",
   "metadata": {},
   "outputs": [
    {
     "name": "stdout",
     "output_type": "stream",
     "text": [
      "[name: \"/device:CPU:0\"\n",
      "device_type: \"CPU\"\n",
      "memory_limit: 268435456\n",
      "locality {\n",
      "}\n",
      "incarnation: 7551415234278780438\n",
      "xla_global_id: -1\n",
      "]\n"
     ]
    }
   ],
   "source": [
    "from tensorflow.python.client import device_lib\n",
    "print(device_lib.list_local_devices())"
   ]
  },
  {
   "cell_type": "code",
   "execution_count": 13,
   "id": "417b8d7a",
   "metadata": {},
   "outputs": [],
   "source": [
    "from tensorflow import keras\n",
    "from keras.datasets import mnist\n",
    "\n",
    "(x_train, y_train), (x_test, y_test) = mnist.load_data()"
   ]
  },
  {
   "cell_type": "code",
   "execution_count": 14,
   "id": "db34215f",
   "metadata": {},
   "outputs": [
    {
     "name": "stdout",
     "output_type": "stream",
     "text": [
      "(60000, 28, 28)\n",
      "(10000, 28, 28)\n",
      "(60000,)\n",
      "(10000,)\n"
     ]
    }
   ],
   "source": [
    "print(x_train.shape)\n",
    "print(x_test.shape)\n",
    "print(y_train.shape)\n",
    "print(y_test.shape)"
   ]
  },
  {
   "cell_type": "code",
   "execution_count": 15,
   "id": "f4223e5c",
   "metadata": {},
   "outputs": [],
   "source": [
    "x_train = x_train.reshape(60000, 784)\n",
    "x_test = x_test.reshape(10000, 784)\n",
    "x_train = x_train/255.\n",
    "x_test = x_test/255."
   ]
  },
  {
   "cell_type": "code",
   "execution_count": 16,
   "id": "c4aa6597",
   "metadata": {},
   "outputs": [],
   "source": [
    "#from keras.utils import to_categorical\n",
    "from tensorflow.keras.utils import to_categorical\n",
    "#tensorflow.keras.utils.to_categorical\n",
    "\n",
    "y_train_oneHot = to_categorical(y_train, 10)\n",
    "y_test_oneHot = to_categorical(y_test, 10)"
   ]
  },
  {
   "cell_type": "markdown",
   "id": "a37f71f4",
   "metadata": {},
   "source": [
    "Keras is now fully intregrated into Tensorflow. So, importing only Keras causes error.\n",
    "\n",
    "It should be imported as:\n",
    "\n",
    "```\n",
    "from tensorflow.keras.utils import to_categorical\n",
    "```\n",
    "\n",
    "Instead of this:\n",
    "\n",
    "```\n",
    "from keras.utils import to_categorical\n",
    "```"
   ]
  },
  {
   "cell_type": "code",
   "execution_count": 17,
   "id": "8687b315",
   "metadata": {},
   "outputs": [],
   "source": [
    "from tensorflow.python.keras.models import Sequential\n",
    "# tensorflow底下有keras，但tensorflow.python底下也有keras\n",
    "\n",
    "model = Sequential()"
   ]
  },
  {
   "cell_type": "code",
   "execution_count": 19,
   "id": "7413b63e",
   "metadata": {},
   "outputs": [],
   "source": [
    "from tensorflow.python.keras import layers\n",
    "#from tensorflow.keras import layers\n",
    "model.add(\n",
    "    layers.Dense(\n",
    "        units=64,\n",
    "        input_shape=(784,),\n",
    "        activation='relu'\n",
    "    )\n",
    "\n",
    ")\n",
    "\n",
    "model.add(\n",
    "    layers.Dense(\n",
    "        units=10,\n",
    "        activation='softmax'\n",
    "    )\n",
    ")"
   ]
  },
  {
   "cell_type": "code",
   "execution_count": 20,
   "id": "65f5f6b2",
   "metadata": {},
   "outputs": [
    {
     "name": "stdout",
     "output_type": "stream",
     "text": [
      "Epoch 1/20\n",
      "1500/1500 [==============================] - 1s 695us/step - loss: 0.3115 - accuracy: 0.9093 - val_loss: 0.1767 - val_accuracy: 0.9482\n",
      "Epoch 2/20\n",
      "1500/1500 [==============================] - 1s 646us/step - loss: 0.1393 - accuracy: 0.9580 - val_loss: 0.1377 - val_accuracy: 0.9578\n",
      "Epoch 3/20\n",
      "1500/1500 [==============================] - 1s 660us/step - loss: 0.1013 - accuracy: 0.9690 - val_loss: 0.1151 - val_accuracy: 0.9650\n",
      "Epoch 4/20\n",
      "1500/1500 [==============================] - 1s 698us/step - loss: 0.0773 - accuracy: 0.9764 - val_loss: 0.1089 - val_accuracy: 0.9663\n",
      "Epoch 5/20\n",
      "1500/1500 [==============================] - 1s 660us/step - loss: 0.0638 - accuracy: 0.9803 - val_loss: 0.1126 - val_accuracy: 0.9695\n",
      "Epoch 6/20\n",
      "1500/1500 [==============================] - 1s 647us/step - loss: 0.0534 - accuracy: 0.9834 - val_loss: 0.1033 - val_accuracy: 0.9702\n",
      "Epoch 7/20\n",
      "1500/1500 [==============================] - 1s 645us/step - loss: 0.0454 - accuracy: 0.9851 - val_loss: 0.1055 - val_accuracy: 0.9693\n",
      "Epoch 8/20\n",
      "1500/1500 [==============================] - 1s 656us/step - loss: 0.0381 - accuracy: 0.9874 - val_loss: 0.1033 - val_accuracy: 0.9712\n",
      "Epoch 9/20\n",
      "1500/1500 [==============================] - 1s 645us/step - loss: 0.0328 - accuracy: 0.9893 - val_loss: 0.1025 - val_accuracy: 0.9728\n",
      "Epoch 10/20\n",
      "1500/1500 [==============================] - 1s 696us/step - loss: 0.0280 - accuracy: 0.9910 - val_loss: 0.1107 - val_accuracy: 0.9724\n",
      "Epoch 11/20\n",
      "1500/1500 [==============================] - 1s 740us/step - loss: 0.0269 - accuracy: 0.9910 - val_loss: 0.1064 - val_accuracy: 0.9736\n",
      "Epoch 12/20\n",
      "1500/1500 [==============================] - 1s 685us/step - loss: 0.0226 - accuracy: 0.9925 - val_loss: 0.1071 - val_accuracy: 0.9748\n",
      "Epoch 13/20\n",
      "1500/1500 [==============================] - 1s 648us/step - loss: 0.0189 - accuracy: 0.9936 - val_loss: 0.1380 - val_accuracy: 0.9719\n",
      "Epoch 14/20\n",
      "1500/1500 [==============================] - 1s 646us/step - loss: 0.0191 - accuracy: 0.9934 - val_loss: 0.1223 - val_accuracy: 0.9747\n",
      "Epoch 15/20\n",
      "1500/1500 [==============================] - 1s 704us/step - loss: 0.0162 - accuracy: 0.9944 - val_loss: 0.1274 - val_accuracy: 0.9748\n",
      "Epoch 16/20\n",
      "1500/1500 [==============================] - 1s 697us/step - loss: 0.0172 - accuracy: 0.9945 - val_loss: 0.1346 - val_accuracy: 0.9740\n",
      "Epoch 17/20\n",
      "1500/1500 [==============================] - 1s 689us/step - loss: 0.0134 - accuracy: 0.9955 - val_loss: 0.1474 - val_accuracy: 0.9733\n",
      "Epoch 18/20\n",
      "1500/1500 [==============================] - 1s 701us/step - loss: 0.0139 - accuracy: 0.9952 - val_loss: 0.1398 - val_accuracy: 0.9739\n",
      "Epoch 19/20\n",
      "1500/1500 [==============================] - 1s 700us/step - loss: 0.0141 - accuracy: 0.9950 - val_loss: 0.1638 - val_accuracy: 0.9735\n",
      "Epoch 20/20\n",
      "1500/1500 [==============================] - 1s 634us/step - loss: 0.0106 - accuracy: 0.9963 - val_loss: 0.1438 - val_accuracy: 0.9760\n"
     ]
    }
   ],
   "source": [
    "from tensorflow.keras.callbacks import TensorBoard\n",
    "\n",
    "model.compile(\n",
    "    optimizer = 'adam',\n",
    "    loss = 'categorical_crossentropy',\n",
    "    metrics = ['accuracy']\n",
    ")\n",
    "\n",
    "tsb = TensorBoard(log_dir='./logs')\n",
    "\n",
    "history_adam = model.fit(\n",
    "    x_train,\n",
    "    y_train_oneHot,\n",
    "    batch_size=32,\n",
    "    epochs=20,\n",
    "    validation_split=0.2,\n",
    "    callbacks=[tsb]\n",
    ")"
   ]
  },
  {
   "cell_type": "code",
   "execution_count": null,
   "id": "9128b8d3",
   "metadata": {},
   "outputs": [],
   "source": []
  }
 ],
 "metadata": {
  "kernelspec": {
   "display_name": "Python 3",
   "language": "python",
   "name": "python3"
  },
  "language_info": {
   "codemirror_mode": {
    "name": "ipython",
    "version": 3
   },
   "file_extension": ".py",
   "mimetype": "text/x-python",
   "name": "python",
   "nbconvert_exporter": "python",
   "pygments_lexer": "ipython3",
   "version": "3.8.8"
  }
 },
 "nbformat": 4,
 "nbformat_minor": 5
}

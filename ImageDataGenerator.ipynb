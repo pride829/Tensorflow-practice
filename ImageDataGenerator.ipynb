{
 "cells": [
  {
   "cell_type": "code",
   "execution_count": 28,
   "id": "f5908644",
   "metadata": {},
   "outputs": [],
   "source": [
    "from tensorflow.keras.preprocessing.image import ImageDataGenerator\n",
    "\n",
    "gen = ImageDataGenerator(\n",
    "    rescale=1/255.,\n",
    "    rotation_range=90.,\n",
    "    width_shift_range=1.,\n",
    "    height_shift_range=.5,\n",
    "    shear_range=.8,\n",
    "    zoom_range=.5,\n",
    "    horizontal_flip=True,\n",
    "    vertical_flip=True\n",
    ")"
   ]
  },
  {
   "cell_type": "code",
   "execution_count": 29,
   "id": "fa482adc",
   "metadata": {},
   "outputs": [
    {
     "name": "stdout",
     "output_type": "stream",
     "text": [
      "Found 600 images belonging to 2 classes.\n",
      "(5, 128, 128, 3)\n"
     ]
    }
   ],
   "source": [
    "iters = gen.flow_from_directory(\n",
    "    'img/shrine_temple/train',\n",
    "    target_size=(128,128),\n",
    "    class_mode='binary',\n",
    "    batch_size=5,\n",
    "    shuffle=True\n",
    ")\n",
    "\n",
    "x_train_batch, y_train_batch = next(iters)\n",
    "\n",
    "print(x_train_batch.shape)"
   ]
  },
  {
   "cell_type": "code",
   "execution_count": 30,
   "id": "c1b035d7",
   "metadata": {},
   "outputs": [
    {
     "name": "stdout",
     "output_type": "stream",
     "text": [
      "Found 200 images belonging to 2 classes.\n"
     ]
    }
   ],
   "source": [
    "img_itr_validation = gen.flow_from_directory(\n",
    "    'img/shrine_temple/validation',\n",
    "    target_size=(128, 128),\n",
    "    batch_size=5,\n",
    "    class_mode='binary',\n",
    "    shuffle=True\n",
    ")"
   ]
  },
  {
   "cell_type": "code",
   "execution_count": 33,
   "id": "bfe34a9d",
   "metadata": {},
   "outputs": [
    {
     "name": "stdout",
     "output_type": "stream",
     "text": [
      "120 40\n",
      "Epoch 1/10\n",
      "120/120 [==============================] - 3s 27ms/step - loss: 0.7125 - accuracy: 0.5550 - val_loss: 0.6477 - val_accuracy: 0.5750\n",
      "Epoch 2/10\n",
      "120/120 [==============================] - 3s 27ms/step - loss: 0.6607 - accuracy: 0.6050 - val_loss: 0.6045 - val_accuracy: 0.6600\n",
      "Epoch 3/10\n",
      "120/120 [==============================] - 3s 28ms/step - loss: 0.6392 - accuracy: 0.6283 - val_loss: 0.5910 - val_accuracy: 0.7000\n",
      "Epoch 4/10\n",
      "120/120 [==============================] - 3s 27ms/step - loss: 0.6234 - accuracy: 0.6467 - val_loss: 0.5762 - val_accuracy: 0.7200\n",
      "Epoch 5/10\n",
      "120/120 [==============================] - 3s 26ms/step - loss: 0.6069 - accuracy: 0.6667 - val_loss: 0.6113 - val_accuracy: 0.6450\n",
      "Epoch 6/10\n",
      "120/120 [==============================] - 3s 26ms/step - loss: 0.5923 - accuracy: 0.6783 - val_loss: 0.5531 - val_accuracy: 0.7500\n",
      "Epoch 7/10\n",
      "120/120 [==============================] - 3s 26ms/step - loss: 0.6200 - accuracy: 0.6600 - val_loss: 0.5580 - val_accuracy: 0.7100\n",
      "Epoch 8/10\n",
      "120/120 [==============================] - 3s 26ms/step - loss: 0.5931 - accuracy: 0.6733 - val_loss: 0.5264 - val_accuracy: 0.8200\n",
      "Epoch 9/10\n",
      "120/120 [==============================] - 3s 26ms/step - loss: 0.6068 - accuracy: 0.6900 - val_loss: 0.5297 - val_accuracy: 0.7400\n",
      "Epoch 10/10\n",
      "120/120 [==============================] - 3s 26ms/step - loss: 0.6059 - accuracy: 0.6800 - val_loss: 0.5201 - val_accuracy: 0.7400\n"
     ]
    }
   ],
   "source": [
    "import math\n",
    "from tensorflow.keras.models import Model\n",
    "from tensorflow.keras import layers\n",
    "from tensorflow.keras.optimizers import SGD\n",
    "\n",
    "input_layer = layers.Input(shape=(128, 128, 3))\n",
    "conv_0 = layers.Conv2D(16, (3, 3), padding='valid')(input_layer)\n",
    "flatten_0 = layers.Flatten()(conv_0)\n",
    "dense_0 = layers.Dense(32, activation='relu')(flatten_0)\n",
    "dense_1 = layers.Dense(1, activation='sigmoid')(dense_0)\n",
    "\n",
    "model = Model(inputs=[input_layer], outputs=[dense_1])\n",
    "\n",
    "model.compile(\n",
    "    loss='binary_crossentropy',\n",
    "    optimizer=SGD(learning_rate=1e-4, momentum=0.9),\n",
    "    metrics=['accuracy']\n",
    ")\n",
    "\n",
    "steps_per_epoch = math.ceil(iters.samples/5)\n",
    "validation_steps = math.ceil(img_itr_validation.samples/5)\n",
    "\n",
    "print(steps_per_epoch, validation_steps)\n",
    "history = model.fit(\n",
    "    iters,\n",
    "    epochs=10,\n",
    "    steps_per_epoch = steps_per_epoch,\n",
    "    validation_data=img_itr_validation,\n",
    "    validation_steps=validation_steps,\n",
    "    verbose=1\n",
    ")\n"
   ]
  },
  {
   "cell_type": "code",
   "execution_count": 14,
   "id": "0621a032",
   "metadata": {},
   "outputs": [
    {
     "name": "stdout",
     "output_type": "stream",
     "text": [
      "Found 200 images belonging to 2 classes.\n"
     ]
    }
   ],
   "source": []
  },
  {
   "cell_type": "code",
   "execution_count": null,
   "id": "adfbade8",
   "metadata": {},
   "outputs": [],
   "source": []
  }
 ],
 "metadata": {
  "kernelspec": {
   "display_name": "Python 3",
   "language": "python",
   "name": "python3"
  },
  "language_info": {
   "codemirror_mode": {
    "name": "ipython",
    "version": 3
   },
   "file_extension": ".py",
   "mimetype": "text/x-python",
   "name": "python",
   "nbconvert_exporter": "python",
   "pygments_lexer": "ipython3",
   "version": "3.8.8"
  }
 },
 "nbformat": 4,
 "nbformat_minor": 5
}

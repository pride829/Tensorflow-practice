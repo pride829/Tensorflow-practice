{
 "cells": [
  {
   "cell_type": "code",
   "execution_count": 10,
   "id": "5db913df",
   "metadata": {},
   "outputs": [],
   "source": [
    "import os, glob\n",
    "\n",
    "data_path = 'img/colorize'\n",
    "\n",
    "data_lists = glob.glob(os.path.join(data_path, '*.jpg'))\n",
    "\n",
    "val_n_sample = math.floor(len(data_lists)*0.1)"
   ]
  },
  {
   "cell_type": "code",
   "execution_count": null,
   "id": "4cf1174c",
   "metadata": {},
   "outputs": [],
   "source": []
  }
 ],
 "metadata": {
  "kernelspec": {
   "display_name": "Python 3 (ipykernel)",
   "language": "python",
   "name": "python3"
  },
  "language_info": {
   "codemirror_mode": {
    "name": "ipython",
    "version": 3
   },
   "file_extension": ".py",
   "mimetype": "text/x-python",
   "name": "python",
   "nbconvert_exporter": "python",
   "pygments_lexer": "ipython3",
   "version": "3.8.10"
  }
 },
 "nbformat": 4,
 "nbformat_minor": 5
}
